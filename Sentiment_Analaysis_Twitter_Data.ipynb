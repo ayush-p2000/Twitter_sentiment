{
 "cells": [
  {
   "cell_type": "code",
   "metadata": {
    "id": "hUzmdgyOGyUw",
    "ExecuteTime": {
     "end_time": "2024-05-29T15:59:40.629132200Z",
     "start_time": "2024-05-29T15:59:40.386084800Z"
    }
   },
   "source": [
    "# installing kaggle library"
   ],
   "outputs": [],
   "execution_count": 10
  },
  {
   "cell_type": "code",
   "metadata": {
    "collapsed": true,
    "id": "WfSHiMmRIkK_",
    "colab": {
     "base_uri": "https://localhost:8080/"
    },
    "outputId": "aaeb3059-3034-4086-dce2-b1c82f59ff06",
    "ExecuteTime": {
     "end_time": "2024-05-29T15:59:42.389486600Z",
     "start_time": "2024-05-29T15:59:40.632133Z"
    }
   },
   "source": [
    "!pip install kaggle"
   ],
   "outputs": [
    {
     "name": "stdout",
     "output_type": "stream",
     "text": [
      "Requirement already satisfied: kaggle in c:\\users\\ayush\\onedrive\\desktop\\code\\.venv\\lib\\site-packages (1.6.14)\n",
      "Requirement already satisfied: six>=1.10 in c:\\users\\ayush\\onedrive\\desktop\\code\\.venv\\lib\\site-packages (from kaggle) (1.16.0)\n",
      "Requirement already satisfied: certifi>=2023.7.22 in c:\\users\\ayush\\onedrive\\desktop\\code\\.venv\\lib\\site-packages (from kaggle) (2024.2.2)\n",
      "Requirement already satisfied: python-dateutil in c:\\users\\ayush\\onedrive\\desktop\\code\\.venv\\lib\\site-packages (from kaggle) (2.9.0.post0)\n",
      "Requirement already satisfied: requests in c:\\users\\ayush\\onedrive\\desktop\\code\\.venv\\lib\\site-packages (from kaggle) (2.32.2)\n",
      "Requirement already satisfied: tqdm in c:\\users\\ayush\\onedrive\\desktop\\code\\.venv\\lib\\site-packages (from kaggle) (4.66.4)\n",
      "Requirement already satisfied: python-slugify in c:\\users\\ayush\\onedrive\\desktop\\code\\.venv\\lib\\site-packages (from kaggle) (8.0.4)\n",
      "Requirement already satisfied: urllib3 in c:\\users\\ayush\\onedrive\\desktop\\code\\.venv\\lib\\site-packages (from kaggle) (2.2.1)\n",
      "Requirement already satisfied: bleach in c:\\users\\ayush\\onedrive\\desktop\\code\\.venv\\lib\\site-packages (from kaggle) (6.1.0)\n",
      "Requirement already satisfied: webencodings in c:\\users\\ayush\\onedrive\\desktop\\code\\.venv\\lib\\site-packages (from bleach->kaggle) (0.5.1)\n",
      "Requirement already satisfied: text-unidecode>=1.3 in c:\\users\\ayush\\onedrive\\desktop\\code\\.venv\\lib\\site-packages (from python-slugify->kaggle) (1.3)\n",
      "Requirement already satisfied: charset-normalizer<4,>=2 in c:\\users\\ayush\\onedrive\\desktop\\code\\.venv\\lib\\site-packages (from requests->kaggle) (3.3.2)\n",
      "Requirement already satisfied: idna<4,>=2.5 in c:\\users\\ayush\\onedrive\\desktop\\code\\.venv\\lib\\site-packages (from requests->kaggle) (3.7)\n",
      "Requirement already satisfied: colorama in c:\\users\\ayush\\onedrive\\desktop\\code\\.venv\\lib\\site-packages (from tqdm->kaggle) (0.4.6)\n"
     ]
    },
    {
     "name": "stderr",
     "output_type": "stream",
     "text": [
      "\n",
      "[notice] A new release of pip is available: 23.2.1 -> 24.0\n",
      "[notice] To update, run: python.exe -m pip install --upgrade pip\n"
     ]
    }
   ],
   "execution_count": 11
  },
  {
   "cell_type": "code",
   "metadata": {
    "id": "1lrfQ0ajIzDZ",
    "ExecuteTime": {
     "end_time": "2024-05-29T15:59:42.391485700Z",
     "start_time": "2024-05-29T15:59:42.374485200Z"
    }
   },
   "source": [
    "# configuring the path of kaggle .json file"
   ],
   "outputs": [],
   "execution_count": 12
  },
  {
   "cell_type": "code",
   "metadata": {
    "id": "kbid0Y_2I4Ii",
    "ExecuteTime": {
     "end_time": "2024-05-29T15:59:42.491463200Z",
     "start_time": "2024-05-29T15:59:42.376482600Z"
    }
   },
   "source": [
    "!mkdir -p ~/.kaggle\n",
    "!cp kaggle.json ~/.kaggle/\n",
    "!chmod 600 ~/.kaggle/kaggle.json"
   ],
   "outputs": [
    {
     "name": "stderr",
     "output_type": "stream",
     "text": [
      "The syntax of the command is incorrect.\n",
      "'cp' is not recognized as an internal or external command,\n",
      "operable program or batch file.\n",
      "'chmod' is not recognized as an internal or external command,\n",
      "operable program or batch file.\n"
     ]
    }
   ],
   "execution_count": 13
  },
  {
   "cell_type": "code",
   "metadata": {
    "id": "2Z4OIRKGJV7e",
    "colab": {
     "base_uri": "https://localhost:8080/"
    },
    "outputId": "7a3e1734-c1a8-46db-b108-7a0d6b4c46c2",
    "ExecuteTime": {
     "end_time": "2024-05-29T15:59:43.591838200Z",
     "start_time": "2024-05-29T15:59:42.425201500Z"
    }
   },
   "source": [
    "# API to fetch the dataset from kaggle\n",
    "!kaggle datasets download -d kazanova/sentiment140"
   ],
   "outputs": [
    {
     "name": "stdout",
     "output_type": "stream",
     "text": [
      "Dataset URL: https://www.kaggle.com/datasets/kazanova/sentiment140\n",
      "License(s): other\n",
      "sentiment140.zip: Skipping, found more recently modified local copy (use --force to force download)\n"
     ]
    }
   ],
   "execution_count": 14
  },
  {
   "cell_type": "code",
   "metadata": {
    "id": "GAzLkugEJopV",
    "colab": {
     "base_uri": "https://localhost:8080/"
    },
    "outputId": "beef7c6a-aa25-4038-98f6-4fa86a484bfd",
    "ExecuteTime": {
     "end_time": "2024-05-31T16:09:12.689324600Z",
     "start_time": "2024-05-31T16:09:11.573324400Z"
    }
   },
   "source": [
    "# extracting the compressed dataset\n",
    "\n",
    "from zipfile import ZipFile\n",
    "dataset = 'sentiment140.zip'\n",
    "\n",
    "with ZipFile(dataset,'r') as z:\n",
    "  z.extractall()\n",
    "  print('The dataset is extracted')"
   ],
   "outputs": [
    {
     "name": "stdout",
     "output_type": "stream",
     "text": [
      "The dataset is extracted\n"
     ]
    }
   ],
   "execution_count": 3
  },
  {
   "cell_type": "markdown",
   "metadata": {
    "id": "Gq_B2O4FKcBZ"
   },
   "source": [
    "Importing the dependencies"
   ]
  },
  {
   "cell_type": "code",
   "metadata": {
    "id": "OtxhuuQgKgSS",
    "ExecuteTime": {
     "end_time": "2024-06-04T00:47:34.220934200Z",
     "start_time": "2024-06-04T00:47:30.527630600Z"
    }
   },
   "source": [
    "import numpy as np\n",
    "import pandas as pd\n",
    "import re\n",
    "from nltk.corpus import stopwords\n",
    "from nltk.stem.porter import PorterStemmer\n",
    "from sklearn.feature_extraction.text import TfidfVectorizer\n",
    "from sklearn.model_selection import train_test_split\n",
    "from sklearn.linear_model import LogisticRegression\n",
    "from sklearn.naive_bayes import MultinomialNB\n",
    "from sklearn.svm import LinearSVC, SVC\n",
    "from sklearn.ensemble import RandomForestClassifier\n",
    "from sklearn.tree import DecisionTreeClassifier\n",
    "from sklearn.metrics import accuracy_score\n",
    "import matplotlib.pyplot as plt\n",
    "from vaderSentiment.vaderSentiment import SentimentIntensityAnalyzer\n",
    "\n",
    "import re\n",
    "from nltk.corpus import stopwords\n",
    "from nltk.stem import SnowballStemmer\n",
    "from joblib import Parallel, delayed\n",
    "import nltk"
   ],
   "outputs": [],
   "execution_count": 3
  },
  {
   "cell_type": "code",
   "metadata": {
    "id": "-d0E-4DGLaeU",
    "colab": {
     "base_uri": "https://localhost:8080/"
    },
    "outputId": "35cf6ddc-e9bd-4d8d-e1e3-779e500604ce",
    "ExecuteTime": {
     "end_time": "2024-06-04T00:47:38.153617Z",
     "start_time": "2024-06-04T00:47:38.074999700Z"
    }
   },
   "source": [
    "import nltk\n",
    "nltk.download('stopwords')"
   ],
   "outputs": [
    {
     "name": "stderr",
     "output_type": "stream",
     "text": [
      "[nltk_data] Downloading package stopwords to\n",
      "[nltk_data]     C:\\Users\\ayush\\AppData\\Roaming\\nltk_data...\n",
      "[nltk_data]   Package stopwords is already up-to-date!\n"
     ]
    },
    {
     "data": {
      "text/plain": "True"
     },
     "execution_count": 4,
     "metadata": {},
     "output_type": "execute_result"
    }
   ],
   "execution_count": 4
  },
  {
   "cell_type": "code",
   "metadata": {
    "id": "2MZZKB6JLpbA",
    "colab": {
     "base_uri": "https://localhost:8080/"
    },
    "outputId": "3b3fbc81-407b-4037-ed60-e064b6ba547d",
    "ExecuteTime": {
     "end_time": "2024-06-03T23:31:08.890182400Z",
     "start_time": "2024-06-03T23:31:08.856294200Z"
    }
   },
   "source": [
    "# printing the stopwords in english\n",
    "print(stopwords.words('english'))"
   ],
   "outputs": [
    {
     "name": "stdout",
     "output_type": "stream",
     "text": [
      "['i', 'me', 'my', 'myself', 'we', 'our', 'ours', 'ourselves', 'you', \"you're\", \"you've\", \"you'll\", \"you'd\", 'your', 'yours', 'yourself', 'yourselves', 'he', 'him', 'his', 'himself', 'she', \"she's\", 'her', 'hers', 'herself', 'it', \"it's\", 'its', 'itself', 'they', 'them', 'their', 'theirs', 'themselves', 'what', 'which', 'who', 'whom', 'this', 'that', \"that'll\", 'these', 'those', 'am', 'is', 'are', 'was', 'were', 'be', 'been', 'being', 'have', 'has', 'had', 'having', 'do', 'does', 'did', 'doing', 'a', 'an', 'the', 'and', 'but', 'if', 'or', 'because', 'as', 'until', 'while', 'of', 'at', 'by', 'for', 'with', 'about', 'against', 'between', 'into', 'through', 'during', 'before', 'after', 'above', 'below', 'to', 'from', 'up', 'down', 'in', 'out', 'on', 'off', 'over', 'under', 'again', 'further', 'then', 'once', 'here', 'there', 'when', 'where', 'why', 'how', 'all', 'any', 'both', 'each', 'few', 'more', 'most', 'other', 'some', 'such', 'no', 'nor', 'not', 'only', 'own', 'same', 'so', 'than', 'too', 'very', 's', 't', 'can', 'will', 'just', 'don', \"don't\", 'should', \"should've\", 'now', 'd', 'll', 'm', 'o', 're', 've', 'y', 'ain', 'aren', \"aren't\", 'couldn', \"couldn't\", 'didn', \"didn't\", 'doesn', \"doesn't\", 'hadn', \"hadn't\", 'hasn', \"hasn't\", 'haven', \"haven't\", 'isn', \"isn't\", 'ma', 'mightn', \"mightn't\", 'mustn', \"mustn't\", 'needn', \"needn't\", 'shan', \"shan't\", 'shouldn', \"shouldn't\", 'wasn', \"wasn't\", 'weren', \"weren't\", 'won', \"won't\", 'wouldn', \"wouldn't\"]\n"
     ]
    }
   ],
   "execution_count": 4
  },
  {
   "cell_type": "markdown",
   "metadata": {
    "id": "JuDQepL0MH2k"
   },
   "source": [
    "Data Processing"
   ]
  },
  {
   "cell_type": "code",
   "metadata": {
    "id": "MvegIL8hMJgU",
    "ExecuteTime": {
     "end_time": "2024-06-03T23:31:10.551922600Z",
     "start_time": "2024-06-03T23:31:10.526917Z"
    }
   },
   "source": [
    "# loading the data from csv file to pandas dataframe\n",
    "#twitter_data = pd.read_csv('training.1600000.processed.noemoticon.csv', nrows=10000, encoding = 'ISO-8859-1')"
   ],
   "outputs": [],
   "execution_count": 5
  },
  {
   "cell_type": "code",
   "metadata": {
    "id": "55J-faIcMcBk",
    "colab": {
     "base_uri": "https://localhost:8080/"
    },
    "outputId": "3506be5d-ead7-4534-9f8b-ad57214311fe",
    "ExecuteTime": {
     "end_time": "2024-06-03T23:31:11.163077100Z",
     "start_time": "2024-06-03T23:31:11.151072100Z"
    }
   },
   "source": [
    "# checking the number of rows and columns\n",
    "#twitter_data.shape\n"
   ],
   "outputs": [],
   "execution_count": 6
  },
  {
   "cell_type": "code",
   "metadata": {
    "id": "9dlV-_84Mn8G",
    "colab": {
     "base_uri": "https://localhost:8080/",
     "height": 310
    },
    "outputId": "be58d584-4cba-43fc-ba90-58044336d64a",
    "ExecuteTime": {
     "end_time": "2024-06-03T23:31:11.690663400Z",
     "start_time": "2024-06-03T23:31:11.676658500Z"
    }
   },
   "source": [
    "# printing the 1st 5 rows of the dataframe\n",
    "#twitter_data.head()"
   ],
   "outputs": [],
   "execution_count": 7
  },
  {
   "cell_type": "code",
   "metadata": {
    "id": "JipXapP2M2p3",
    "ExecuteTime": {
     "end_time": "2024-06-04T00:47:48.069114500Z",
     "start_time": "2024-06-04T00:47:45.168012100Z"
    }
   },
   "source": [
    "# naming the columns and reading the dataset again\n",
    "\n",
    "column_names = ['target','id','date','flag','user','text']\n",
    "twitter_data = pd.read_csv('training.1600000.processed.noemoticon.csv', names=column_names, encoding = 'ISO-8859-1')"
   ],
   "outputs": [],
   "execution_count": 5
  },
  {
   "cell_type": "code",
   "metadata": {
    "id": "Du4CpbgHNcn4",
    "colab": {
     "base_uri": "https://localhost:8080/"
    },
    "outputId": "97e9fdab-9ab6-4f5a-c9d2-db1c4cb874c5",
    "ExecuteTime": {
     "end_time": "2024-06-04T00:23:16.738855900Z",
     "start_time": "2024-06-04T00:23:16.724964400Z"
    }
   },
   "source": [
    "# checking the number of rows and columns\n",
    "twitter_data.shape"
   ],
   "outputs": [
    {
     "data": {
      "text/plain": "(1600000, 6)"
     },
     "execution_count": 5,
     "metadata": {},
     "output_type": "execute_result"
    }
   ],
   "execution_count": 5
  },
  {
   "cell_type": "code",
   "metadata": {
    "id": "8x0PSQGHNjid",
    "colab": {
     "base_uri": "https://localhost:8080/",
     "height": 206
    },
    "outputId": "c333f5e1-4ed9-41c2-d0af-c70e1121a7a9",
    "ExecuteTime": {
     "end_time": "2024-06-04T00:23:17.793356400Z",
     "start_time": "2024-06-04T00:23:17.760886600Z"
    }
   },
   "source": [
    "# printing the 1st 5 rows of the dataframe\n",
    "twitter_data.head()"
   ],
   "outputs": [
    {
     "data": {
      "text/plain": "   target          id                          date      flag  \\\n0       0  1467810369  Mon Apr 06 22:19:45 PDT 2009  NO_QUERY   \n1       0  1467810672  Mon Apr 06 22:19:49 PDT 2009  NO_QUERY   \n2       0  1467810917  Mon Apr 06 22:19:53 PDT 2009  NO_QUERY   \n3       0  1467811184  Mon Apr 06 22:19:57 PDT 2009  NO_QUERY   \n4       0  1467811193  Mon Apr 06 22:19:57 PDT 2009  NO_QUERY   \n\n              user                                               text  \n0  _TheSpecialOne_  @switchfoot http://twitpic.com/2y1zl - Awww, t...  \n1    scotthamilton  is upset that he can't update his Facebook by ...  \n2         mattycus  @Kenichan I dived many times for the ball. Man...  \n3          ElleCTF    my whole body feels itchy and like its on fire   \n4           Karoli  @nationwideclass no, it's not behaving at all....  ",
      "text/html": "<div>\n<style scoped>\n    .dataframe tbody tr th:only-of-type {\n        vertical-align: middle;\n    }\n\n    .dataframe tbody tr th {\n        vertical-align: top;\n    }\n\n    .dataframe thead th {\n        text-align: right;\n    }\n</style>\n<table border=\"1\" class=\"dataframe\">\n  <thead>\n    <tr style=\"text-align: right;\">\n      <th></th>\n      <th>target</th>\n      <th>id</th>\n      <th>date</th>\n      <th>flag</th>\n      <th>user</th>\n      <th>text</th>\n    </tr>\n  </thead>\n  <tbody>\n    <tr>\n      <th>0</th>\n      <td>0</td>\n      <td>1467810369</td>\n      <td>Mon Apr 06 22:19:45 PDT 2009</td>\n      <td>NO_QUERY</td>\n      <td>_TheSpecialOne_</td>\n      <td>@switchfoot http://twitpic.com/2y1zl - Awww, t...</td>\n    </tr>\n    <tr>\n      <th>1</th>\n      <td>0</td>\n      <td>1467810672</td>\n      <td>Mon Apr 06 22:19:49 PDT 2009</td>\n      <td>NO_QUERY</td>\n      <td>scotthamilton</td>\n      <td>is upset that he can't update his Facebook by ...</td>\n    </tr>\n    <tr>\n      <th>2</th>\n      <td>0</td>\n      <td>1467810917</td>\n      <td>Mon Apr 06 22:19:53 PDT 2009</td>\n      <td>NO_QUERY</td>\n      <td>mattycus</td>\n      <td>@Kenichan I dived many times for the ball. Man...</td>\n    </tr>\n    <tr>\n      <th>3</th>\n      <td>0</td>\n      <td>1467811184</td>\n      <td>Mon Apr 06 22:19:57 PDT 2009</td>\n      <td>NO_QUERY</td>\n      <td>ElleCTF</td>\n      <td>my whole body feels itchy and like its on fire</td>\n    </tr>\n    <tr>\n      <th>4</th>\n      <td>0</td>\n      <td>1467811193</td>\n      <td>Mon Apr 06 22:19:57 PDT 2009</td>\n      <td>NO_QUERY</td>\n      <td>Karoli</td>\n      <td>@nationwideclass no, it's not behaving at all....</td>\n    </tr>\n  </tbody>\n</table>\n</div>"
     },
     "execution_count": 6,
     "metadata": {},
     "output_type": "execute_result"
    }
   ],
   "execution_count": 6
  },
  {
   "cell_type": "code",
   "metadata": {
    "id": "n8C1PYUPNtr_",
    "colab": {
     "base_uri": "https://localhost:8080/"
    },
    "outputId": "410df657-6236-47b0-c2cf-682975174ea1",
    "ExecuteTime": {
     "end_time": "2024-06-04T00:23:18.941981700Z",
     "start_time": "2024-06-04T00:23:18.766359200Z"
    }
   },
   "source": [
    "# counting the number of missing values in the dataset\n",
    "twitter_data.isnull().sum()"
   ],
   "outputs": [
    {
     "data": {
      "text/plain": "target    0\nid        0\ndate      0\nflag      0\nuser      0\ntext      0\ndtype: int64"
     },
     "execution_count": 7,
     "metadata": {},
     "output_type": "execute_result"
    }
   ],
   "execution_count": 7
  },
  {
   "cell_type": "code",
   "metadata": {
    "id": "x_0eDYdYOJ9P",
    "colab": {
     "base_uri": "https://localhost:8080/"
    },
    "outputId": "84dc23bd-498d-42c2-83d6-381fb8751014",
    "ExecuteTime": {
     "end_time": "2024-06-04T00:23:19.796801900Z",
     "start_time": "2024-06-04T00:23:19.751382800Z"
    }
   },
   "source": [
    "# checking the distribution of target column\n",
    "twitter_data['target'].value_counts()"
   ],
   "outputs": [
    {
     "data": {
      "text/plain": "target\n0    800000\n4    800000\nName: count, dtype: int64"
     },
     "execution_count": 8,
     "metadata": {},
     "output_type": "execute_result"
    }
   ],
   "execution_count": 8
  },
  {
   "cell_type": "markdown",
   "metadata": {
    "id": "SzxMvD70QNLF"
   },
   "source": [
    "Convert the target from \"4\" to \"1\""
   ]
  },
  {
   "cell_type": "code",
   "metadata": {
    "id": "Wjocj5vgQSBf",
    "ExecuteTime": {
     "end_time": "2024-06-04T00:23:21.215931800Z",
     "start_time": "2024-06-04T00:23:21.202926900Z"
    }
   },
   "source": [
    "#twitter_data.replace({'target':{4:1}}, inplace=True)"
   ],
   "outputs": [],
   "execution_count": 9
  },
  {
   "cell_type": "code",
   "metadata": {
    "id": "LnHX2JbIQoSC",
    "colab": {
     "base_uri": "https://localhost:8080/"
    },
    "outputId": "e750b27d-8388-4996-887c-0001e8814f5f",
    "ExecuteTime": {
     "end_time": "2024-06-04T00:23:21.795997400Z",
     "start_time": "2024-06-04T00:23:21.768491600Z"
    }
   },
   "source": [
    "# checking the distribution of target column\n",
    "twitter_data['target'].value_counts()"
   ],
   "outputs": [
    {
     "data": {
      "text/plain": "target\n0    800000\n4    800000\nName: count, dtype: int64"
     },
     "execution_count": 10,
     "metadata": {},
     "output_type": "execute_result"
    }
   ],
   "execution_count": 10
  },
  {
   "cell_type": "code",
   "outputs": [],
   "source": [
    "twitter_data['target'] = twitter_data['target'].map({0: 0, 4: 1})\n",
    "\n",
    "# Separate the rows based on their target values\n",
    "data_0 = twitter_data[twitter_data['target'] == 0]\n",
    "data_1 = twitter_data[twitter_data['target'] == 1]"
   ],
   "metadata": {
    "collapsed": false,
    "ExecuteTime": {
     "end_time": "2024-06-04T00:48:03.989834800Z",
     "start_time": "2024-06-04T00:48:03.878718Z"
    }
   },
   "execution_count": 6
  },
  {
   "cell_type": "markdown",
   "metadata": {
    "id": "beNjiJ5oQ9Gi"
   },
   "source": [
    "0--> Negative Tweet\n",
    "1--> Positive Tweet"
   ]
  },
  {
   "cell_type": "code",
   "outputs": [
    {
     "data": {
      "text/plain": "        target          id                          date      flag  \\\n0            0  1467810369  Mon Apr 06 22:19:45 PDT 2009  NO_QUERY   \n1            0  1467810672  Mon Apr 06 22:19:49 PDT 2009  NO_QUERY   \n2            0  1467810917  Mon Apr 06 22:19:53 PDT 2009  NO_QUERY   \n3            0  1467811184  Mon Apr 06 22:19:57 PDT 2009  NO_QUERY   \n4            0  1467811193  Mon Apr 06 22:19:57 PDT 2009  NO_QUERY   \n...        ...         ...                           ...       ...   \n799995       0  2329205009  Thu Jun 25 10:28:28 PDT 2009  NO_QUERY   \n799996       0  2329205038  Thu Jun 25 10:28:28 PDT 2009  NO_QUERY   \n799997       0  2329205473  Thu Jun 25 10:28:30 PDT 2009  NO_QUERY   \n799998       0  2329205574  Thu Jun 25 10:28:30 PDT 2009  NO_QUERY   \n799999       0  2329205794  Thu Jun 25 10:28:31 PDT 2009  NO_QUERY   \n\n                   user                                               text  \n0       _TheSpecialOne_  @switchfoot http://twitpic.com/2y1zl - Awww, t...  \n1         scotthamilton  is upset that he can't update his Facebook by ...  \n2              mattycus  @Kenichan I dived many times for the ball. Man...  \n3               ElleCTF    my whole body feels itchy and like its on fire   \n4                Karoli  @nationwideclass no, it's not behaving at all....  \n...                 ...                                                ...  \n799995         dandykim  Sick  Spending my day laying in bed listening ...  \n799996          bigenya                                    Gmail is down?   \n799997         LeeLHoke                      rest in peace Farrah! So sad   \n799998     davidlmulder  @Eric_Urbane Sounds like a rival is flagging y...  \n799999       tpchandler  has to resit exams over summer...  wishes he w...  \n\n[800000 rows x 6 columns]",
      "text/html": "<div>\n<style scoped>\n    .dataframe tbody tr th:only-of-type {\n        vertical-align: middle;\n    }\n\n    .dataframe tbody tr th {\n        vertical-align: top;\n    }\n\n    .dataframe thead th {\n        text-align: right;\n    }\n</style>\n<table border=\"1\" class=\"dataframe\">\n  <thead>\n    <tr style=\"text-align: right;\">\n      <th></th>\n      <th>target</th>\n      <th>id</th>\n      <th>date</th>\n      <th>flag</th>\n      <th>user</th>\n      <th>text</th>\n    </tr>\n  </thead>\n  <tbody>\n    <tr>\n      <th>0</th>\n      <td>0</td>\n      <td>1467810369</td>\n      <td>Mon Apr 06 22:19:45 PDT 2009</td>\n      <td>NO_QUERY</td>\n      <td>_TheSpecialOne_</td>\n      <td>@switchfoot http://twitpic.com/2y1zl - Awww, t...</td>\n    </tr>\n    <tr>\n      <th>1</th>\n      <td>0</td>\n      <td>1467810672</td>\n      <td>Mon Apr 06 22:19:49 PDT 2009</td>\n      <td>NO_QUERY</td>\n      <td>scotthamilton</td>\n      <td>is upset that he can't update his Facebook by ...</td>\n    </tr>\n    <tr>\n      <th>2</th>\n      <td>0</td>\n      <td>1467810917</td>\n      <td>Mon Apr 06 22:19:53 PDT 2009</td>\n      <td>NO_QUERY</td>\n      <td>mattycus</td>\n      <td>@Kenichan I dived many times for the ball. Man...</td>\n    </tr>\n    <tr>\n      <th>3</th>\n      <td>0</td>\n      <td>1467811184</td>\n      <td>Mon Apr 06 22:19:57 PDT 2009</td>\n      <td>NO_QUERY</td>\n      <td>ElleCTF</td>\n      <td>my whole body feels itchy and like its on fire</td>\n    </tr>\n    <tr>\n      <th>4</th>\n      <td>0</td>\n      <td>1467811193</td>\n      <td>Mon Apr 06 22:19:57 PDT 2009</td>\n      <td>NO_QUERY</td>\n      <td>Karoli</td>\n      <td>@nationwideclass no, it's not behaving at all....</td>\n    </tr>\n    <tr>\n      <th>...</th>\n      <td>...</td>\n      <td>...</td>\n      <td>...</td>\n      <td>...</td>\n      <td>...</td>\n      <td>...</td>\n    </tr>\n    <tr>\n      <th>799995</th>\n      <td>0</td>\n      <td>2329205009</td>\n      <td>Thu Jun 25 10:28:28 PDT 2009</td>\n      <td>NO_QUERY</td>\n      <td>dandykim</td>\n      <td>Sick  Spending my day laying in bed listening ...</td>\n    </tr>\n    <tr>\n      <th>799996</th>\n      <td>0</td>\n      <td>2329205038</td>\n      <td>Thu Jun 25 10:28:28 PDT 2009</td>\n      <td>NO_QUERY</td>\n      <td>bigenya</td>\n      <td>Gmail is down?</td>\n    </tr>\n    <tr>\n      <th>799997</th>\n      <td>0</td>\n      <td>2329205473</td>\n      <td>Thu Jun 25 10:28:30 PDT 2009</td>\n      <td>NO_QUERY</td>\n      <td>LeeLHoke</td>\n      <td>rest in peace Farrah! So sad</td>\n    </tr>\n    <tr>\n      <th>799998</th>\n      <td>0</td>\n      <td>2329205574</td>\n      <td>Thu Jun 25 10:28:30 PDT 2009</td>\n      <td>NO_QUERY</td>\n      <td>davidlmulder</td>\n      <td>@Eric_Urbane Sounds like a rival is flagging y...</td>\n    </tr>\n    <tr>\n      <th>799999</th>\n      <td>0</td>\n      <td>2329205794</td>\n      <td>Thu Jun 25 10:28:31 PDT 2009</td>\n      <td>NO_QUERY</td>\n      <td>tpchandler</td>\n      <td>has to resit exams over summer...  wishes he w...</td>\n    </tr>\n  </tbody>\n</table>\n<p>800000 rows × 6 columns</p>\n</div>"
     },
     "execution_count": 12,
     "metadata": {},
     "output_type": "execute_result"
    }
   ],
   "source": [
    "data_0"
   ],
   "metadata": {
    "collapsed": false,
    "ExecuteTime": {
     "end_time": "2024-06-04T00:23:24.499564600Z",
     "start_time": "2024-06-04T00:23:24.482467600Z"
    }
   },
   "execution_count": 12
  },
  {
   "cell_type": "code",
   "outputs": [
    {
     "data": {
      "text/plain": "         target          id                          date      flag  \\\n800000        1  1467822272  Mon Apr 06 22:22:45 PDT 2009  NO_QUERY   \n800001        1  1467822273  Mon Apr 06 22:22:45 PDT 2009  NO_QUERY   \n800002        1  1467822283  Mon Apr 06 22:22:46 PDT 2009  NO_QUERY   \n800003        1  1467822287  Mon Apr 06 22:22:46 PDT 2009  NO_QUERY   \n800004        1  1467822293  Mon Apr 06 22:22:46 PDT 2009  NO_QUERY   \n...         ...         ...                           ...       ...   \n1599995       1  2193601966  Tue Jun 16 08:40:49 PDT 2009  NO_QUERY   \n1599996       1  2193601969  Tue Jun 16 08:40:49 PDT 2009  NO_QUERY   \n1599997       1  2193601991  Tue Jun 16 08:40:49 PDT 2009  NO_QUERY   \n1599998       1  2193602064  Tue Jun 16 08:40:49 PDT 2009  NO_QUERY   \n1599999       1  2193602129  Tue Jun 16 08:40:50 PDT 2009  NO_QUERY   \n\n                    user                                               text  \n800000             ersle       I LOVE @Health4UandPets u guys r the best!!   \n800001          becca210  im meeting up with one of my besties tonight! ...  \n800002         Wingman29  @DaRealSunisaKim Thanks for the Twitter add, S...  \n800003         katarinka  Being sick can be really cheap when it hurts t...  \n800004       _EmilyYoung    @LovesBrooklyn2 he has that effect on everyone   \n...                  ...                                                ...  \n1599995  AmandaMarie1028  Just woke up. Having no school is the best fee...  \n1599996      TheWDBoards  TheWDB.com - Very cool to hear old Walt interv...  \n1599997           bpbabe  Are you ready for your MoJo Makeover? Ask me f...  \n1599998     tinydiamondz  Happy 38th Birthday to my boo of alll time!!! ...  \n1599999   RyanTrevMorris  happy #charitytuesday @theNSPCC @SparksCharity...  \n\n[800000 rows x 6 columns]",
      "text/html": "<div>\n<style scoped>\n    .dataframe tbody tr th:only-of-type {\n        vertical-align: middle;\n    }\n\n    .dataframe tbody tr th {\n        vertical-align: top;\n    }\n\n    .dataframe thead th {\n        text-align: right;\n    }\n</style>\n<table border=\"1\" class=\"dataframe\">\n  <thead>\n    <tr style=\"text-align: right;\">\n      <th></th>\n      <th>target</th>\n      <th>id</th>\n      <th>date</th>\n      <th>flag</th>\n      <th>user</th>\n      <th>text</th>\n    </tr>\n  </thead>\n  <tbody>\n    <tr>\n      <th>800000</th>\n      <td>1</td>\n      <td>1467822272</td>\n      <td>Mon Apr 06 22:22:45 PDT 2009</td>\n      <td>NO_QUERY</td>\n      <td>ersle</td>\n      <td>I LOVE @Health4UandPets u guys r the best!!</td>\n    </tr>\n    <tr>\n      <th>800001</th>\n      <td>1</td>\n      <td>1467822273</td>\n      <td>Mon Apr 06 22:22:45 PDT 2009</td>\n      <td>NO_QUERY</td>\n      <td>becca210</td>\n      <td>im meeting up with one of my besties tonight! ...</td>\n    </tr>\n    <tr>\n      <th>800002</th>\n      <td>1</td>\n      <td>1467822283</td>\n      <td>Mon Apr 06 22:22:46 PDT 2009</td>\n      <td>NO_QUERY</td>\n      <td>Wingman29</td>\n      <td>@DaRealSunisaKim Thanks for the Twitter add, S...</td>\n    </tr>\n    <tr>\n      <th>800003</th>\n      <td>1</td>\n      <td>1467822287</td>\n      <td>Mon Apr 06 22:22:46 PDT 2009</td>\n      <td>NO_QUERY</td>\n      <td>katarinka</td>\n      <td>Being sick can be really cheap when it hurts t...</td>\n    </tr>\n    <tr>\n      <th>800004</th>\n      <td>1</td>\n      <td>1467822293</td>\n      <td>Mon Apr 06 22:22:46 PDT 2009</td>\n      <td>NO_QUERY</td>\n      <td>_EmilyYoung</td>\n      <td>@LovesBrooklyn2 he has that effect on everyone</td>\n    </tr>\n    <tr>\n      <th>...</th>\n      <td>...</td>\n      <td>...</td>\n      <td>...</td>\n      <td>...</td>\n      <td>...</td>\n      <td>...</td>\n    </tr>\n    <tr>\n      <th>1599995</th>\n      <td>1</td>\n      <td>2193601966</td>\n      <td>Tue Jun 16 08:40:49 PDT 2009</td>\n      <td>NO_QUERY</td>\n      <td>AmandaMarie1028</td>\n      <td>Just woke up. Having no school is the best fee...</td>\n    </tr>\n    <tr>\n      <th>1599996</th>\n      <td>1</td>\n      <td>2193601969</td>\n      <td>Tue Jun 16 08:40:49 PDT 2009</td>\n      <td>NO_QUERY</td>\n      <td>TheWDBoards</td>\n      <td>TheWDB.com - Very cool to hear old Walt interv...</td>\n    </tr>\n    <tr>\n      <th>1599997</th>\n      <td>1</td>\n      <td>2193601991</td>\n      <td>Tue Jun 16 08:40:49 PDT 2009</td>\n      <td>NO_QUERY</td>\n      <td>bpbabe</td>\n      <td>Are you ready for your MoJo Makeover? Ask me f...</td>\n    </tr>\n    <tr>\n      <th>1599998</th>\n      <td>1</td>\n      <td>2193602064</td>\n      <td>Tue Jun 16 08:40:49 PDT 2009</td>\n      <td>NO_QUERY</td>\n      <td>tinydiamondz</td>\n      <td>Happy 38th Birthday to my boo of alll time!!! ...</td>\n    </tr>\n    <tr>\n      <th>1599999</th>\n      <td>1</td>\n      <td>2193602129</td>\n      <td>Tue Jun 16 08:40:50 PDT 2009</td>\n      <td>NO_QUERY</td>\n      <td>RyanTrevMorris</td>\n      <td>happy #charitytuesday @theNSPCC @SparksCharity...</td>\n    </tr>\n  </tbody>\n</table>\n<p>800000 rows × 6 columns</p>\n</div>"
     },
     "execution_count": 13,
     "metadata": {},
     "output_type": "execute_result"
    }
   ],
   "source": [
    "data_1"
   ],
   "metadata": {
    "collapsed": false,
    "ExecuteTime": {
     "end_time": "2024-06-04T00:23:27.769881500Z",
     "start_time": "2024-06-04T00:23:27.757052100Z"
    }
   },
   "execution_count": 13
  },
  {
   "cell_type": "markdown",
   "metadata": {
    "id": "xcN8AaQ7RWKk"
   },
   "source": [
    "**Stemming**"
   ]
  },
  {
   "cell_type": "markdown",
   "metadata": {
    "id": "PlUGjaA0RmjX"
   },
   "source": [
    "Stemming is the process of reducing a word to its Root Word"
   ]
  },
  {
   "cell_type": "code",
   "metadata": {
    "id": "P-Ukh8LDRjW3",
    "ExecuteTime": {
     "end_time": "2024-06-04T00:23:31.648256900Z",
     "start_time": "2024-06-04T00:23:31.633252200Z"
    }
   },
   "source": [
    "# port_stem = PorterStemmer()"
   ],
   "outputs": [],
   "execution_count": 14
  },
  {
   "cell_type": "code",
   "metadata": {
    "id": "y5AlI2oQR2y3",
    "ExecuteTime": {
     "end_time": "2024-06-04T00:23:31.961855300Z",
     "start_time": "2024-06-04T00:23:31.950851Z"
    }
   },
   "source": [
    "# def stemming(content):\n",
    "#   stemmed_content = re.sub('[^a-zA-Z0-9\\s]',' ',content)\n",
    "#   stemmed_content = stemmed_content.lower()\n",
    "#   stemmed_content = stemmed_content.split()\n",
    "#   stemmed_content = [port_stem.stem(word) for word in stemmed_content if not word in stopwords.words('english')]\n",
    "#   stemmed_content = ' '.join(stemmed_content)\n",
    "# \n",
    "#   return stemmed_content"
   ],
   "outputs": [],
   "execution_count": 15
  },
  {
   "cell_type": "code",
   "outputs": [],
   "source": [
    "# Initialize the Snowball stemmer and stopwords list outside the function\n",
    "snowball_stemmer = SnowballStemmer('english')\n",
    "stop_words = set(stopwords.words('english'))"
   ],
   "metadata": {
    "collapsed": false,
    "ExecuteTime": {
     "end_time": "2024-06-04T00:48:11.855281Z",
     "start_time": "2024-06-04T00:48:11.843565800Z"
    }
   },
   "execution_count": 7
  },
  {
   "cell_type": "code",
   "outputs": [],
   "source": [
    "def stemming(content, stopWords):\n",
    "    # Remove non-alphanumeric characters and convert to lowercase\n",
    "    stemmed_content = re.sub('[^a-zA-Z0-9\\s]', ' ', content)\n",
    "    stemmed_content = stemmed_content.lower()\n",
    "    stemmed_content = stemmed_content.split()\n",
    "    # Stem the words and remove stopwords\n",
    "    stemmed_content = [snowball_stemmer.stem(word) for word in stemmed_content if word not in stopWords]\n",
    "    stemmed_content = ' '.join(stemmed_content)\n",
    "    return stemmed_content"
   ],
   "metadata": {
    "collapsed": false,
    "ExecuteTime": {
     "end_time": "2024-06-04T00:48:12.553797400Z",
     "start_time": "2024-06-04T00:48:12.542793400Z"
    }
   },
   "execution_count": 8
  },
  {
   "cell_type": "code",
   "outputs": [],
   "source": [
    "#Parallel Stemming\n",
    "twitter_data['stemmed_content'] = Parallel(n_jobs=-1)(delayed(stemming)(text, stop_words) for text in twitter_data['text'])"
   ],
   "metadata": {
    "collapsed": false,
    "ExecuteTime": {
     "end_time": "2024-06-04T00:48:32.901209800Z",
     "start_time": "2024-06-04T00:48:13.286598600Z"
    }
   },
   "execution_count": 9
  },
  {
   "cell_type": "code",
   "metadata": {
    "id": "nSyBgOEPTX2-"
   },
   "source": [
    "# twitter_data['stemmed_content'] = twitter_data['text'].apply(stemming) # 50 minutes to complete this execution"
   ],
   "outputs": [],
   "execution_count": null
  },
  {
   "cell_type": "code",
   "metadata": {
    "colab": {
     "base_uri": "https://localhost:8080/",
     "height": 293
    },
    "id": "XmX3-XwvT_II",
    "outputId": "02c9d248-b8df-467f-990f-25e1222f3b83",
    "ExecuteTime": {
     "end_time": "2024-06-04T00:24:19.303179100Z",
     "start_time": "2024-06-04T00:24:19.268426300Z"
    }
   },
   "source": [
    "twitter_data.head()"
   ],
   "outputs": [
    {
     "data": {
      "text/plain": "   target          id                          date      flag  \\\n0       0  1467810369  Mon Apr 06 22:19:45 PDT 2009  NO_QUERY   \n1       0  1467810672  Mon Apr 06 22:19:49 PDT 2009  NO_QUERY   \n2       0  1467810917  Mon Apr 06 22:19:53 PDT 2009  NO_QUERY   \n3       0  1467811184  Mon Apr 06 22:19:57 PDT 2009  NO_QUERY   \n4       0  1467811193  Mon Apr 06 22:19:57 PDT 2009  NO_QUERY   \n\n              user                                               text  \\\n0  _TheSpecialOne_  @switchfoot http://twitpic.com/2y1zl - Awww, t...   \n1    scotthamilton  is upset that he can't update his Facebook by ...   \n2         mattycus  @Kenichan I dived many times for the ball. Man...   \n3          ElleCTF    my whole body feels itchy and like its on fire    \n4           Karoli  @nationwideclass no, it's not behaving at all....   \n\n                                     stemmed_content  \n0  switchfoot http twitpic com 2y1zl awww bummer ...  \n1  upset updat facebook text might cri result sch...  \n2  kenichan dive mani time ball manag save 50 res...  \n3                    whole bodi feel itchi like fire  \n4                      nationwideclass behav mad see  ",
      "text/html": "<div>\n<style scoped>\n    .dataframe tbody tr th:only-of-type {\n        vertical-align: middle;\n    }\n\n    .dataframe tbody tr th {\n        vertical-align: top;\n    }\n\n    .dataframe thead th {\n        text-align: right;\n    }\n</style>\n<table border=\"1\" class=\"dataframe\">\n  <thead>\n    <tr style=\"text-align: right;\">\n      <th></th>\n      <th>target</th>\n      <th>id</th>\n      <th>date</th>\n      <th>flag</th>\n      <th>user</th>\n      <th>text</th>\n      <th>stemmed_content</th>\n    </tr>\n  </thead>\n  <tbody>\n    <tr>\n      <th>0</th>\n      <td>0</td>\n      <td>1467810369</td>\n      <td>Mon Apr 06 22:19:45 PDT 2009</td>\n      <td>NO_QUERY</td>\n      <td>_TheSpecialOne_</td>\n      <td>@switchfoot http://twitpic.com/2y1zl - Awww, t...</td>\n      <td>switchfoot http twitpic com 2y1zl awww bummer ...</td>\n    </tr>\n    <tr>\n      <th>1</th>\n      <td>0</td>\n      <td>1467810672</td>\n      <td>Mon Apr 06 22:19:49 PDT 2009</td>\n      <td>NO_QUERY</td>\n      <td>scotthamilton</td>\n      <td>is upset that he can't update his Facebook by ...</td>\n      <td>upset updat facebook text might cri result sch...</td>\n    </tr>\n    <tr>\n      <th>2</th>\n      <td>0</td>\n      <td>1467810917</td>\n      <td>Mon Apr 06 22:19:53 PDT 2009</td>\n      <td>NO_QUERY</td>\n      <td>mattycus</td>\n      <td>@Kenichan I dived many times for the ball. Man...</td>\n      <td>kenichan dive mani time ball manag save 50 res...</td>\n    </tr>\n    <tr>\n      <th>3</th>\n      <td>0</td>\n      <td>1467811184</td>\n      <td>Mon Apr 06 22:19:57 PDT 2009</td>\n      <td>NO_QUERY</td>\n      <td>ElleCTF</td>\n      <td>my whole body feels itchy and like its on fire</td>\n      <td>whole bodi feel itchi like fire</td>\n    </tr>\n    <tr>\n      <th>4</th>\n      <td>0</td>\n      <td>1467811193</td>\n      <td>Mon Apr 06 22:19:57 PDT 2009</td>\n      <td>NO_QUERY</td>\n      <td>Karoli</td>\n      <td>@nationwideclass no, it's not behaving at all....</td>\n      <td>nationwideclass behav mad see</td>\n    </tr>\n  </tbody>\n</table>\n</div>"
     },
     "execution_count": 19,
     "metadata": {},
     "output_type": "execute_result"
    }
   ],
   "execution_count": 19
  },
  {
   "cell_type": "code",
   "metadata": {
    "colab": {
     "base_uri": "https://localhost:8080/"
    },
    "id": "ItBCu-MScwKD",
    "outputId": "83d32453-17f3-4cf6-d108-7dcc673d6354",
    "ExecuteTime": {
     "end_time": "2024-06-04T00:48:37.816350100Z",
     "start_time": "2024-06-04T00:48:37.800841100Z"
    }
   },
   "source": [
    "print(twitter_data['stemmed_content'])"
   ],
   "outputs": [
    {
     "name": "stdout",
     "output_type": "stream",
     "text": [
      "0          switchfoot http twitpic com 2y1zl awww bummer ...\n",
      "1          upset updat facebook text might cri result sch...\n",
      "2          kenichan dive mani time ball manag save 50 res...\n",
      "3                            whole bodi feel itchi like fire\n",
      "4                              nationwideclass behav mad see\n",
      "                                 ...                        \n",
      "1599995                           woke school best feel ever\n",
      "1599996    thewdb com cool hear old walt interview http b...\n",
      "1599997                         readi mojo makeov ask detail\n",
      "1599998    happi 38th birthday boo alll time tupac amaru ...\n",
      "1599999    happi charitytuesday thenspcc sparkschar speak...\n",
      "Name: stemmed_content, Length: 1600000, dtype: object\n"
     ]
    }
   ],
   "execution_count": 10
  },
  {
   "cell_type": "code",
   "metadata": {
    "colab": {
     "base_uri": "https://localhost:8080/"
    },
    "id": "gOpw0TfedAix",
    "outputId": "b0fd7ec3-7f89-4acc-b75c-092740494d96",
    "ExecuteTime": {
     "end_time": "2024-06-04T00:24:22.080195300Z",
     "start_time": "2024-06-04T00:24:22.070621700Z"
    }
   },
   "source": [
    "print(twitter_data['target'])"
   ],
   "outputs": [
    {
     "name": "stdout",
     "output_type": "stream",
     "text": [
      "0          0\n",
      "1          0\n",
      "2          0\n",
      "3          0\n",
      "4          0\n",
      "          ..\n",
      "1599995    1\n",
      "1599996    1\n",
      "1599997    1\n",
      "1599998    1\n",
      "1599999    1\n",
      "Name: target, Length: 1600000, dtype: int64\n"
     ]
    }
   ],
   "execution_count": 21
  },
  {
   "cell_type": "code",
   "metadata": {
    "id": "AU_F8ApWdOiw",
    "ExecuteTime": {
     "end_time": "2024-06-04T00:48:43.816804800Z",
     "start_time": "2024-06-04T00:48:43.806801Z"
    }
   },
   "source": [
    "# separating the data and label\n",
    "X = twitter_data['stemmed_content'].values\n",
    "Y = twitter_data['target'].values"
   ],
   "outputs": [],
   "execution_count": 11
  },
  {
   "cell_type": "code",
   "metadata": {
    "colab": {
     "base_uri": "https://localhost:8080/"
    },
    "id": "XCNb-R79dgIv",
    "outputId": "be95b844-b425-4fa6-cf2f-c7d476165c88",
    "ExecuteTime": {
     "end_time": "2024-06-04T00:24:23.842070Z",
     "start_time": "2024-06-04T00:24:23.831561700Z"
    }
   },
   "source": [
    "print(X)"
   ],
   "outputs": [
    {
     "name": "stdout",
     "output_type": "stream",
     "text": [
      "['switchfoot http twitpic com 2y1zl awww bummer shoulda got david carr third day'\n",
      " 'upset updat facebook text might cri result school today also blah'\n",
      " 'kenichan dive mani time ball manag save 50 rest go bound' ...\n",
      " 'readi mojo makeov ask detail'\n",
      " 'happi 38th birthday boo alll time tupac amaru shakur'\n",
      " 'happi charitytuesday thenspcc sparkschar speakinguph4h']\n"
     ]
    }
   ],
   "execution_count": 23
  },
  {
   "cell_type": "code",
   "metadata": {
    "colab": {
     "base_uri": "https://localhost:8080/"
    },
    "id": "5bhvcNj5dim7",
    "outputId": "52ae2993-6ad9-40a1-962e-440b2d9c0157",
    "ExecuteTime": {
     "end_time": "2024-06-04T00:24:24.499096700Z",
     "start_time": "2024-06-04T00:24:24.487092Z"
    }
   },
   "source": [
    "print(Y)"
   ],
   "outputs": [
    {
     "name": "stdout",
     "output_type": "stream",
     "text": [
      "[0 0 0 ... 1 1 1]\n"
     ]
    }
   ],
   "execution_count": 24
  },
  {
   "cell_type": "code",
   "outputs": [
    {
     "data": {
      "text/plain": "<Figure size 1000x600 with 1 Axes>",
      "image/png": "[encoded data removed]"
     },
     "metadata": {},
     "output_type": "display_data"
    }
   ],
   "source": [
    "text_lengths = [len(text) for text in X]\n",
    "\n",
    "# Create a scatter plot\n",
    "plt.figure(figsize=(10, 6))\n",
    "plt.scatter(text_lengths, Y, alpha=0.5)\n",
    "plt.title('Scatter plot of text length vs target')\n",
    "plt.xlabel('Length of stemmed content')\n",
    "plt.ylabel('Target')\n",
    "plt.grid(True)\n",
    "plt.show()"
   ],
   "metadata": {
    "collapsed": false,
    "ExecuteTime": {
     "end_time": "2024-06-04T00:48:52.979691800Z",
     "start_time": "2024-06-04T00:48:46.786972300Z"
    }
   },
   "execution_count": 12
  },
  {
   "cell_type": "markdown",
   "metadata": {
    "id": "fYp0qsc9dqdE"
   },
   "source": [
    "Splitting the data into training data and test data"
   ]
  },
  {
   "cell_type": "code",
   "metadata": {
    "id": "-w_P6xz4duV8",
    "ExecuteTime": {
     "end_time": "2024-06-04T00:48:57.919916800Z",
     "start_time": "2024-06-04T00:48:57.360850100Z"
    }
   },
   "source": [
    "X_train, X_test, Y_train, Y_test = train_test_split(X, Y, test_size=0.1, stratify=Y, random_state=42)"
   ],
   "outputs": [],
   "execution_count": 13
  },
  {
   "cell_type": "code",
   "metadata": {
    "colab": {
     "base_uri": "https://localhost:8080/"
    },
    "id": "ZjfAnLrbejSL",
    "outputId": "42ba6576-19a4-4a99-a0a7-dfdc07a6d65e",
    "ExecuteTime": {
     "end_time": "2024-06-04T00:48:59.090685100Z",
     "start_time": "2024-06-04T00:48:59.075174800Z"
    }
   },
   "source": [
    "print(X.shape, X_train.shape, X_test.shape)"
   ],
   "outputs": [
    {
     "name": "stdout",
     "output_type": "stream",
     "text": [
      "(1600000,) (1440000,) (160000,)\n"
     ]
    }
   ],
   "execution_count": 14
  },
  {
   "cell_type": "code",
   "metadata": {
    "colab": {
     "base_uri": "https://localhost:8080/"
    },
    "id": "8hjwDuS5et0X",
    "outputId": "ac59188d-2564-4f0e-f845-ddc09e8b8150",
    "ExecuteTime": {
     "end_time": "2024-06-04T00:49:00.176653900Z",
     "start_time": "2024-06-04T00:49:00.161648600Z"
    }
   },
   "source": [
    "print(X_train)"
   ],
   "outputs": [
    {
     "name": "stdout",
     "output_type": "stream",
     "text": [
      "['brandempir time cud meet b ur welcom 2 come c last fri finish till 5 30 get time'\n",
      " 'start feel wors cannot wait doctor appt ugh could use cheer'\n",
      " 'happi mother day mama' ... 'new group twi tune'\n",
      " 'bought 2 chocol bar quot 1 5 6 win free bar quot label win either'\n",
      " 'solobassstev look love still want get reverb use wav give littl air']\n"
     ]
    }
   ],
   "execution_count": 15
  },
  {
   "cell_type": "code",
   "metadata": {
    "colab": {
     "base_uri": "https://localhost:8080/"
    },
    "id": "0llMqH3aeyHJ",
    "outputId": "f5f2b4bb-ead0-486c-e074-2b89405cac41",
    "ExecuteTime": {
     "end_time": "2024-06-04T00:49:00.727560100Z",
     "start_time": "2024-06-04T00:49:00.716555300Z"
    }
   },
   "source": [
    "print(X_test)"
   ],
   "outputs": [
    {
     "name": "stdout",
     "output_type": "stream",
     "text": [
      "['wow twitter serious peopl need prayer sing begin feel lot like myspac everi tweet throw lol'\n",
      " 'rick bayless beauti bet go cook someth yummi' 'ihuntmidget thank' ...\n",
      " 'tarynvonfabu sorri miss fab twitter ident crisi cuando venga prepar ti di cardio hit beach'\n",
      " 'went mate wed last night great day even parti cut short due grant start work 5am today'\n",
      " 'wearestereo anyth guy lt 3 spam street team littl www myspac com stereossteam summergirl summergirl']\n"
     ]
    }
   ],
   "execution_count": 16
  },
  {
   "cell_type": "code",
   "metadata": {
    "id": "Ro__SsdJe4wf",
    "ExecuteTime": {
     "end_time": "2024-06-04T00:49:12.518519400Z",
     "start_time": "2024-06-04T00:49:01.856536Z"
    }
   },
   "source": [
    "# converting the textual data to numerical data\n",
    "\n",
    "vector = TfidfVectorizer()\n",
    "\n",
    "X_train = vector.fit_transform(X_train)\n",
    "X_test = vector.transform(X_test)"
   ],
   "outputs": [],
   "execution_count": 17
  },
  {
   "cell_type": "code",
   "metadata": {
    "colab": {
     "base_uri": "https://localhost:8080/"
    },
    "id": "zXfCsolSgACo",
    "outputId": "fb45cfbc-b9ca-4f76-9fef-5a3fbff30b70",
    "ExecuteTime": {
     "end_time": "2024-06-04T00:24:48.215918700Z",
     "start_time": "2024-06-04T00:24:48.160217200Z"
    }
   },
   "source": [
    "print(X_train)"
   ],
   "outputs": [
    {
     "name": "stdout",
     "output_type": "stream",
     "text": [
      "  (0, 96834)\t0.5380436556694671\n",
      "  (0, 504559)\t0.31356962817002026\n",
      "  (0, 137927)\t0.3585730843931348\n",
      "  (0, 334244)\t0.2285214017241614\n",
      "  (0, 524219)\t0.21835012806917958\n",
      "  (0, 537603)\t0.23602981122357997\n",
      "  (0, 129585)\t0.17585816281867128\n",
      "  (0, 298072)\t0.17848225106992938\n",
      "  (0, 197363)\t0.28761483344375083\n",
      "  (0, 190317)\t0.21879716849359257\n",
      "  (0, 504368)\t0.235192991254394\n",
      "  (0, 11907)\t0.24551441257416565\n",
      "  (0, 205421)\t0.13794928097108267\n",
      "  (1, 474184)\t0.24514708498266613\n",
      "  (1, 187836)\t0.2062676471457405\n",
      "  (1, 545696)\t0.3397264732116774\n",
      "  (1, 108491)\t0.33965209994448714\n",
      "  (1, 533969)\t0.22689542327482679\n",
      "  (1, 159879)\t0.3487853513278498\n",
      "  (1, 64297)\t0.4227352734409292\n",
      "  (1, 520566)\t0.28066490433291535\n",
      "  (1, 133239)\t0.24471800987508402\n",
      "  (1, 524788)\t0.2535480015449791\n",
      "  (1, 117702)\t0.33435728059054864\n",
      "  (2, 220448)\t0.41569958690934344\n",
      "  :\t:\n",
      "  (1439996, 94022)\t0.8589813616440045\n",
      "  (1439997, 368089)\t0.28367395905521253\n",
      "  (1439997, 215025)\t0.4704244424039779\n",
      "  (1439997, 515237)\t0.4842847244609756\n",
      "  (1439997, 516897)\t0.680953915178263\n",
      "  (1439998, 542292)\t0.4606973722845425\n",
      "  (1439998, 171805)\t0.2418369561914207\n",
      "  (1439998, 414577)\t0.34732782635845566\n",
      "  (1439998, 120851)\t0.2606512397108954\n",
      "  (1439998, 77444)\t0.5499380193804911\n",
      "  (1439998, 95551)\t0.24935633875785454\n",
      "  (1439998, 196608)\t0.22878363858565337\n",
      "  (1439998, 295108)\t0.35177374538347794\n",
      "  (1439999, 205421)\t0.1417865675262043\n",
      "  (1439999, 524788)\t0.20981239422680797\n",
      "  (1439999, 312413)\t0.18007414838603283\n",
      "  (1439999, 534754)\t0.1665182469897247\n",
      "  (1439999, 208058)\t0.22741055942635796\n",
      "  (1439999, 314091)\t0.15327101314249836\n",
      "  (1439999, 477064)\t0.1763318923018907\n",
      "  (1439999, 308677)\t0.21218624419357668\n",
      "  (1439999, 48249)\t0.2736660995707067\n",
      "  (1439999, 466620)\t0.4396210664568625\n",
      "  (1439999, 535758)\t0.4670720219133585\n",
      "  (1439999, 425279)\t0.4879351480916712\n"
     ]
    }
   ],
   "execution_count": 31
  },
  {
   "cell_type": "code",
   "metadata": {
    "colab": {
     "base_uri": "https://localhost:8080/"
    },
    "id": "Q6-NL5Y6gCFJ",
    "outputId": "7f91de67-8974-4249-e082-1462d313ccc4",
    "ExecuteTime": {
     "end_time": "2024-06-04T00:24:48.834716300Z",
     "start_time": "2024-06-04T00:24:48.817672100Z"
    }
   },
   "source": [
    "print(X_test)"
   ],
   "outputs": [
    {
     "name": "stdout",
     "output_type": "stream",
     "text": [
      "  (0, 82195)\t0.3096488746392471\n",
      "  (0, 181509)\t0.2662587752297925\n",
      "  (0, 187836)\t0.1827881720029129\n",
      "  (0, 305724)\t0.1631321274811512\n",
      "  (0, 311558)\t0.1776690991145812\n",
      "  (0, 313546)\t0.23402548833594924\n",
      "  (0, 360440)\t0.29694834528840025\n",
      "  (0, 366062)\t0.18939246666238235\n",
      "  (0, 395556)\t0.21913576887665184\n",
      "  (0, 406451)\t0.3350215053206977\n",
      "  (0, 448991)\t0.2679915317068127\n",
      "  (0, 459240)\t0.2879728729954512\n",
      "  (0, 502898)\t0.32014680550529034\n",
      "  (0, 516190)\t0.21651834209416987\n",
      "  (0, 517892)\t0.1966978894874982\n",
      "  (0, 545894)\t0.24443037432861509\n",
      "  (1, 79002)\t0.5840467726419294\n",
      "  (1, 80636)\t0.271941028990752\n",
      "  (1, 84873)\t0.32412696369753785\n",
      "  (1, 131589)\t0.31485895438769407\n",
      "  (1, 209555)\t0.15497673062408324\n",
      "  (1, 426918)\t0.4284232666968343\n",
      "  (1, 466888)\t0.2523251640428851\n",
      "  (1, 559819)\t0.33092404486938576\n",
      "  (2, 239251)\t0.9462236506530338\n",
      "  :\t:\n",
      "  (159998, 181372)\t0.20346768148462566\n",
      "  (159998, 213026)\t0.36750799771027853\n",
      "  (159998, 213450)\t0.18911650640786298\n",
      "  (159998, 298072)\t0.18597561606189797\n",
      "  (159998, 329371)\t0.2966626992680898\n",
      "  (159998, 371071)\t0.1786062970052577\n",
      "  (159998, 391564)\t0.23239658445983868\n",
      "  (159998, 455973)\t0.2694397381952121\n",
      "  (159998, 474184)\t0.2056567672675252\n",
      "  (159998, 507229)\t0.16129765796286025\n",
      "  (159998, 536860)\t0.27203071159261516\n",
      "  (159998, 538025)\t0.2248376831983373\n",
      "  (159998, 545291)\t0.1529403451886382\n",
      "  (159999, 63304)\t0.1743922474065658\n",
      "  (159999, 129505)\t0.12286579605074588\n",
      "  (159999, 216779)\t0.150040675045166\n",
      "  (159999, 308677)\t0.15412602239519269\n",
      "  (159999, 315750)\t0.15371918097785106\n",
      "  (159999, 360440)\t0.20141584252125233\n",
      "  (159999, 469447)\t0.22690855977279364\n",
      "  (159999, 478424)\t0.21670850926136478\n",
      "  (159999, 481244)\t0.7525684441158993\n",
      "  (159999, 491642)\t0.2015171864233896\n",
      "  (159999, 536372)\t0.33057077498305837\n",
      "  (159999, 547353)\t0.1712624529151466\n"
     ]
    }
   ],
   "execution_count": 32
  },
  {
   "cell_type": "markdown",
   "metadata": {
    "id": "ZYYo9htjgTxj"
   },
   "source": [
    "Training the machine learning model:"
   ]
  },
  {
   "metadata": {},
   "cell_type": "markdown",
   "source": [
    "1. Logistic Regression"
   ]
  },
  {
   "cell_type": "code",
   "metadata": {
    "id": "fHn8jrfLgb9F",
    "ExecuteTime": {
     "end_time": "2024-06-04T00:15:06.552263500Z",
     "start_time": "2024-06-04T00:14:59.032005Z"
    }
   },
   "source": [
    "model1 = LogisticRegression(max_iter=1000)\n",
    "model1.fit(X_train, Y_train) "
   ],
   "outputs": [
    {
     "data": {
      "text/plain": "LogisticRegression(max_iter=1000)",
      "text/html": "<style>#sk-container-id-6 {\n  /* Definition of color scheme common for light and dark mode */\n  --sklearn-color-text: black;\n  --sklearn-color-line: gray;\n  /* Definition of color scheme for unfitted estimators */\n  --sklearn-color-unfitted-level-0: #fff5e6;\n  --sklearn-color-unfitted-level-1: #f6e4d2;\n  --sklearn-color-unfitted-level-2: #ffe0b3;\n  --sklearn-color-unfitted-level-3: chocolate;\n  /* Definition of color scheme for fitted estimators */\n  --sklearn-color-fitted-level-0: #f0f8ff;\n  --sklearn-color-fitted-level-1: #d4ebff;\n  --sklearn-color-fitted-level-2: #b3dbfd;\n  --sklearn-color-fitted-level-3: cornflowerblue;\n\n  /* Specific color for light theme */\n  --sklearn-color-text-on-default-background: var(--sg-text-color, var(--theme-code-foreground, var(--jp-content-font-color1, black)));\n  --sklearn-color-background: var(--sg-background-color, var(--theme-background, var(--jp-layout-color0, white)));\n  --sklearn-color-border-box: var(--sg-text-color, var(--theme-code-foreground, var(--jp-content-font-color1, black)));\n  --sklearn-color-icon: #696969;\n\n  @media (prefers-color-scheme: dark) {\n    /* Redefinition of color scheme for dark theme */\n    --sklearn-color-text-on-default-background: var(--sg-text-color, var(--theme-code-foreground, var(--jp-content-font-color1, white)));\n    --sklearn-color-background: var(--sg-background-color, var(--theme-background, var(--jp-layout-color0, #111)));\n    --sklearn-color-border-box: var(--sg-text-color, var(--theme-code-foreground, var(--jp-content-font-color1, white)));\n    --sklearn-color-icon: #878787;\n  }\n}\n\n#sk-container-id-6 {\n  color: var(--sklearn-color-text);\n}\n\n#sk-container-id-6 pre {\n  padding: 0;\n}\n\n#sk-container-id-6 input.sk-hidden--visually {\n  border: 0;\n  clip: rect(1px 1px 1px 1px);\n  clip: rect(1px, 1px, 1px, 1px);\n  height: 1px;\n  margin: -1px;\n  overflow: hidden;\n  padding: 0;\n  position: absolute;\n  width: 1px;\n}\n\n#sk-container-id-6 div.sk-dashed-wrapped {\n  border: 1px dashed var(--sklearn-color-line);\n  margin: 0 0.4em 0.5em 0.4em;\n  box-sizing: border-box;\n  padding-bottom: 0.4em;\n  background-color: var(--sklearn-color-background);\n}\n\n#sk-container-id-6 div.sk-container {\n  /* jupyter's `normalize.less` sets `[hidden] { display: none; }`\n     but bootstrap.min.css set `[hidden] { display: none !important; }`\n     so we also need the `!important` here to be able to override the\n     default hidden behavior on the sphinx rendered scikit-learn.org.\n     See: https://github.com/scikit-learn/scikit-learn/issues/21755 */\n  display: inline-block !important;\n  position: relative;\n}\n\n#sk-container-id-6 div.sk-text-repr-fallback {\n  display: none;\n}\n\ndiv.sk-parallel-item,\ndiv.sk-serial,\ndiv.sk-item {\n  /* draw centered vertical line to link estimators */\n  background-image: linear-gradient(var(--sklearn-color-text-on-default-background), var(--sklearn-color-text-on-default-background));\n  background-size: 2px 100%;\n  background-repeat: no-repeat;\n  background-position: center center;\n}\n\n/* Parallel-specific style estimator block */\n\n#sk-container-id-6 div.sk-parallel-item::after {\n  content: \"\";\n  width: 100%;\n  border-bottom: 2px solid var(--sklearn-color-text-on-default-background);\n  flex-grow: 1;\n}\n\n#sk-container-id-6 div.sk-parallel {\n  display: flex;\n  align-items: stretch;\n  justify-content: center;\n  background-color: var(--sklearn-color-background);\n  position: relative;\n}\n\n#sk-container-id-6 div.sk-parallel-item {\n  display: flex;\n  flex-direction: column;\n}\n\n#sk-container-id-6 div.sk-parallel-item:first-child::after {\n  align-self: flex-end;\n  width: 50%;\n}\n\n#sk-container-id-6 div.sk-parallel-item:last-child::after {\n  align-self: flex-start;\n  width: 50%;\n}\n\n#sk-container-id-6 div.sk-parallel-item:only-child::after {\n  width: 0;\n}\n\n/* Serial-specific style estimator block */\n\n#sk-container-id-6 div.sk-serial {\n  display: flex;\n  flex-direction: column;\n  align-items: center;\n  background-color: var(--sklearn-color-background);\n  padding-right: 1em;\n  padding-left: 1em;\n}\n\n\n/* Toggleable style: style used for estimator/Pipeline/ColumnTransformer box that is\nclickable and can be expanded/collapsed.\n- Pipeline and ColumnTransformer use this feature and define the default style\n- Estimators will overwrite some part of the style using the `sk-estimator` class\n*/\n\n/* Pipeline and ColumnTransformer style (default) */\n\n#sk-container-id-6 div.sk-toggleable {\n  /* Default theme specific background. It is overwritten whether we have a\n  specific estimator or a Pipeline/ColumnTransformer */\n  background-color: var(--sklearn-color-background);\n}\n\n/* Toggleable label */\n#sk-container-id-6 label.sk-toggleable__label {\n  cursor: pointer;\n  display: block;\n  width: 100%;\n  margin-bottom: 0;\n  padding: 0.5em;\n  box-sizing: border-box;\n  text-align: center;\n}\n\n#sk-container-id-6 label.sk-toggleable__label-arrow:before {\n  /* Arrow on the left of the label */\n  content: \"▸\";\n  float: left;\n  margin-right: 0.25em;\n  color: var(--sklearn-color-icon);\n}\n\n#sk-container-id-6 label.sk-toggleable__label-arrow:hover:before {\n  color: var(--sklearn-color-text);\n}\n\n/* Toggleable content - dropdown */\n\n#sk-container-id-6 div.sk-toggleable__content {\n  max-height: 0;\n  max-width: 0;\n  overflow: hidden;\n  text-align: left;\n  /* unfitted */\n  background-color: var(--sklearn-color-unfitted-level-0);\n}\n\n#sk-container-id-6 div.sk-toggleable__content.fitted {\n  /* fitted */\n  background-color: var(--sklearn-color-fitted-level-0);\n}\n\n#sk-container-id-6 div.sk-toggleable__content pre {\n  margin: 0.2em;\n  border-radius: 0.25em;\n  color: var(--sklearn-color-text);\n  /* unfitted */\n  background-color: var(--sklearn-color-unfitted-level-0);\n}\n\n#sk-container-id-6 div.sk-toggleable__content.fitted pre {\n  /* unfitted */\n  background-color: var(--sklearn-color-fitted-level-0);\n}\n\n#sk-container-id-6 input.sk-toggleable__control:checked~div.sk-toggleable__content {\n  /* Expand drop-down */\n  max-height: 200px;\n  max-width: 100%;\n  overflow: auto;\n}\n\n#sk-container-id-6 input.sk-toggleable__control:checked~label.sk-toggleable__label-arrow:before {\n  content: \"▾\";\n}\n\n/* Pipeline/ColumnTransformer-specific style */\n\n#sk-container-id-6 div.sk-label input.sk-toggleable__control:checked~label.sk-toggleable__label {\n  color: var(--sklearn-color-text);\n  background-color: var(--sklearn-color-unfitted-level-2);\n}\n\n#sk-container-id-6 div.sk-label.fitted input.sk-toggleable__control:checked~label.sk-toggleable__label {\n  background-color: var(--sklearn-color-fitted-level-2);\n}\n\n/* Estimator-specific style */\n\n/* Colorize estimator box */\n#sk-container-id-6 div.sk-estimator input.sk-toggleable__control:checked~label.sk-toggleable__label {\n  /* unfitted */\n  background-color: var(--sklearn-color-unfitted-level-2);\n}\n\n#sk-container-id-6 div.sk-estimator.fitted input.sk-toggleable__control:checked~label.sk-toggleable__label {\n  /* fitted */\n  background-color: var(--sklearn-color-fitted-level-2);\n}\n\n#sk-container-id-6 div.sk-label label.sk-toggleable__label,\n#sk-container-id-6 div.sk-label label {\n  /* The background is the default theme color */\n  color: var(--sklearn-color-text-on-default-background);\n}\n\n/* On hover, darken the color of the background */\n#sk-container-id-6 div.sk-label:hover label.sk-toggleable__label {\n  color: var(--sklearn-color-text);\n  background-color: var(--sklearn-color-unfitted-level-2);\n}\n\n/* Label box, darken color on hover, fitted */\n#sk-container-id-6 div.sk-label.fitted:hover label.sk-toggleable__label.fitted {\n  color: var(--sklearn-color-text);\n  background-color: var(--sklearn-color-fitted-level-2);\n}\n\n/* Estimator label */\n\n#sk-container-id-6 div.sk-label label {\n  font-family: monospace;\n  font-weight: bold;\n  display: inline-block;\n  line-height: 1.2em;\n}\n\n#sk-container-id-6 div.sk-label-container {\n  text-align: center;\n}\n\n/* Estimator-specific */\n#sk-container-id-6 div.sk-estimator {\n  font-family: monospace;\n  border: 1px dotted var(--sklearn-color-border-box);\n  border-radius: 0.25em;\n  box-sizing: border-box;\n  margin-bottom: 0.5em;\n  /* unfitted */\n  background-color: var(--sklearn-color-unfitted-level-0);\n}\n\n#sk-container-id-6 div.sk-estimator.fitted {\n  /* fitted */\n  background-color: var(--sklearn-color-fitted-level-0);\n}\n\n/* on hover */\n#sk-container-id-6 div.sk-estimator:hover {\n  /* unfitted */\n  background-color: var(--sklearn-color-unfitted-level-2);\n}\n\n#sk-container-id-6 div.sk-estimator.fitted:hover {\n  /* fitted */\n  background-color: var(--sklearn-color-fitted-level-2);\n}\n\n/* Specification for estimator info (e.g. \"i\" and \"?\") */\n\n/* Common style for \"i\" and \"?\" */\n\n.sk-estimator-doc-link,\na:link.sk-estimator-doc-link,\na:visited.sk-estimator-doc-link {\n  float: right;\n  font-size: smaller;\n  line-height: 1em;\n  font-family: monospace;\n  background-color: var(--sklearn-color-background);\n  border-radius: 1em;\n  height: 1em;\n  width: 1em;\n  text-decoration: none !important;\n  margin-left: 1ex;\n  /* unfitted */\n  border: var(--sklearn-color-unfitted-level-1) 1pt solid;\n  color: var(--sklearn-color-unfitted-level-1);\n}\n\n.sk-estimator-doc-link.fitted,\na:link.sk-estimator-doc-link.fitted,\na:visited.sk-estimator-doc-link.fitted {\n  /* fitted */\n  border: var(--sklearn-color-fitted-level-1) 1pt solid;\n  color: var(--sklearn-color-fitted-level-1);\n}\n\n/* On hover */\ndiv.sk-estimator:hover .sk-estimator-doc-link:hover,\n.sk-estimator-doc-link:hover,\ndiv.sk-label-container:hover .sk-estimator-doc-link:hover,\n.sk-estimator-doc-link:hover {\n  /* unfitted */\n  background-color: var(--sklearn-color-unfitted-level-3);\n  color: var(--sklearn-color-background);\n  text-decoration: none;\n}\n\ndiv.sk-estimator.fitted:hover .sk-estimator-doc-link.fitted:hover,\n.sk-estimator-doc-link.fitted:hover,\ndiv.sk-label-container:hover .sk-estimator-doc-link.fitted:hover,\n.sk-estimator-doc-link.fitted:hover {\n  /* fitted */\n  background-color: var(--sklearn-color-fitted-level-3);\n  color: var(--sklearn-color-background);\n  text-decoration: none;\n}\n\n/* Span, style for the box shown on hovering the info icon */\n.sk-estimator-doc-link span {\n  display: none;\n  z-index: 9999;\n  position: relative;\n  font-weight: normal;\n  right: .2ex;\n  padding: .5ex;\n  margin: .5ex;\n  width: min-content;\n  min-width: 20ex;\n  max-width: 50ex;\n  color: var(--sklearn-color-text);\n  box-shadow: 2pt 2pt 4pt #999;\n  /* unfitted */\n  background: var(--sklearn-color-unfitted-level-0);\n  border: .5pt solid var(--sklearn-color-unfitted-level-3);\n}\n\n.sk-estimator-doc-link.fitted span {\n  /* fitted */\n  background: var(--sklearn-color-fitted-level-0);\n  border: var(--sklearn-color-fitted-level-3);\n}\n\n.sk-estimator-doc-link:hover span {\n  display: block;\n}\n\n/* \"?\"-specific style due to the `<a>` HTML tag */\n\n#sk-container-id-6 a.estimator_doc_link {\n  float: right;\n  font-size: 1rem;\n  line-height: 1em;\n  font-family: monospace;\n  background-color: var(--sklearn-color-background);\n  border-radius: 1rem;\n  height: 1rem;\n  width: 1rem;\n  text-decoration: none;\n  /* unfitted */\n  color: var(--sklearn-color-unfitted-level-1);\n  border: var(--sklearn-color-unfitted-level-1) 1pt solid;\n}\n\n#sk-container-id-6 a.estimator_doc_link.fitted {\n  /* fitted */\n  border: var(--sklearn-color-fitted-level-1) 1pt solid;\n  color: var(--sklearn-color-fitted-level-1);\n}\n\n/* On hover */\n#sk-container-id-6 a.estimator_doc_link:hover {\n  /* unfitted */\n  background-color: var(--sklearn-color-unfitted-level-3);\n  color: var(--sklearn-color-background);\n  text-decoration: none;\n}\n\n#sk-container-id-6 a.estimator_doc_link.fitted:hover {\n  /* fitted */\n  background-color: var(--sklearn-color-fitted-level-3);\n}\n</style><div id=\"sk-container-id-6\" class=\"sk-top-container\"><div class=\"sk-text-repr-fallback\"><pre>LogisticRegression(max_iter=1000)</pre><b>In a Jupyter environment, please rerun this cell to show the HTML representation or trust the notebook. <br />On GitHub, the HTML representation is unable to render, please try loading this page with nbviewer.org.</b></div><div class=\"sk-container\" hidden><div class=\"sk-item\"><div class=\"sk-estimator fitted sk-toggleable\"><input class=\"sk-toggleable__control sk-hidden--visually\" id=\"sk-estimator-id-8\" type=\"checkbox\" checked><label for=\"sk-estimator-id-8\" class=\"sk-toggleable__label fitted sk-toggleable__label-arrow fitted\">&nbsp;&nbsp;LogisticRegression<a class=\"sk-estimator-doc-link fitted\" rel=\"noreferrer\" target=\"_blank\" href=\"https://scikit-learn.org/1.5/modules/generated/sklearn.linear_model.LogisticRegression.html\">?<span>Documentation for LogisticRegression</span></a><span class=\"sk-estimator-doc-link fitted\">i<span>Fitted</span></span></label><div class=\"sk-toggleable__content fitted\"><pre>LogisticRegression(max_iter=1000)</pre></div> </div></div></div></div>"
     },
     "execution_count": 98,
     "metadata": {},
     "output_type": "execute_result"
    }
   ],
   "execution_count": 98
  },
  {
   "metadata": {},
   "cell_type": "markdown",
   "source": [
    "2. Naive Bayes"
   ]
  },
  {
   "metadata": {
    "ExecuteTime": {
     "end_time": "2024-06-03T23:55:22.715040600Z",
     "start_time": "2024-06-03T23:55:22.610168300Z"
    }
   },
   "cell_type": "code",
   "source": [
    "model2 = MultinomialNB(alpha=1.0)\n",
    "model2.fit(X_train, Y_train)"
   ],
   "outputs": [
    {
     "ename": "ValueError",
     "evalue": "could not convert string to float: 'brandempir time cud meet b ur welcom 2 come c last fri finish till 5 30 get time'",
     "output_type": "error",
     "traceback": [
      "\u001B[1;31m---------------------------------------------------------------------------\u001B[0m",
      "\u001B[1;31mValueError\u001B[0m                                Traceback (most recent call last)",
      "Cell \u001B[1;32mIn[65], line 2\u001B[0m\n\u001B[0;32m      1\u001B[0m model2 \u001B[38;5;241m=\u001B[39m MultinomialNB(alpha\u001B[38;5;241m=\u001B[39m\u001B[38;5;241m1.0\u001B[39m)\n\u001B[1;32m----> 2\u001B[0m \u001B[43mmodel2\u001B[49m\u001B[38;5;241;43m.\u001B[39;49m\u001B[43mfit\u001B[49m\u001B[43m(\u001B[49m\u001B[43mX_train\u001B[49m\u001B[43m,\u001B[49m\u001B[43m \u001B[49m\u001B[43mY_train\u001B[49m\u001B[43m)\u001B[49m\n",
      "File \u001B[1;32m~\\OneDrive\\Desktop\\code\\.venv\\Lib\\site-packages\\sklearn\\base.py:1473\u001B[0m, in \u001B[0;36m_fit_context.<locals>.decorator.<locals>.wrapper\u001B[1;34m(estimator, *args, **kwargs)\u001B[0m\n\u001B[0;32m   1466\u001B[0m     estimator\u001B[38;5;241m.\u001B[39m_validate_params()\n\u001B[0;32m   1468\u001B[0m \u001B[38;5;28;01mwith\u001B[39;00m config_context(\n\u001B[0;32m   1469\u001B[0m     skip_parameter_validation\u001B[38;5;241m=\u001B[39m(\n\u001B[0;32m   1470\u001B[0m         prefer_skip_nested_validation \u001B[38;5;129;01mor\u001B[39;00m global_skip_validation\n\u001B[0;32m   1471\u001B[0m     )\n\u001B[0;32m   1472\u001B[0m ):\n\u001B[1;32m-> 1473\u001B[0m     \u001B[38;5;28;01mreturn\u001B[39;00m \u001B[43mfit_method\u001B[49m\u001B[43m(\u001B[49m\u001B[43mestimator\u001B[49m\u001B[43m,\u001B[49m\u001B[43m \u001B[49m\u001B[38;5;241;43m*\u001B[39;49m\u001B[43margs\u001B[49m\u001B[43m,\u001B[49m\u001B[43m \u001B[49m\u001B[38;5;241;43m*\u001B[39;49m\u001B[38;5;241;43m*\u001B[39;49m\u001B[43mkwargs\u001B[49m\u001B[43m)\u001B[49m\n",
      "File \u001B[1;32m~\\OneDrive\\Desktop\\code\\.venv\\Lib\\site-packages\\sklearn\\naive_bayes.py:732\u001B[0m, in \u001B[0;36m_BaseDiscreteNB.fit\u001B[1;34m(self, X, y, sample_weight)\u001B[0m\n\u001B[0;32m    711\u001B[0m \u001B[38;5;129m@_fit_context\u001B[39m(prefer_skip_nested_validation\u001B[38;5;241m=\u001B[39m\u001B[38;5;28;01mTrue\u001B[39;00m)\n\u001B[0;32m    712\u001B[0m \u001B[38;5;28;01mdef\u001B[39;00m \u001B[38;5;21mfit\u001B[39m(\u001B[38;5;28mself\u001B[39m, X, y, sample_weight\u001B[38;5;241m=\u001B[39m\u001B[38;5;28;01mNone\u001B[39;00m):\n\u001B[0;32m    713\u001B[0m \u001B[38;5;250m    \u001B[39m\u001B[38;5;124;03m\"\"\"Fit Naive Bayes classifier according to X, y.\u001B[39;00m\n\u001B[0;32m    714\u001B[0m \n\u001B[0;32m    715\u001B[0m \u001B[38;5;124;03m    Parameters\u001B[39;00m\n\u001B[1;32m   (...)\u001B[0m\n\u001B[0;32m    730\u001B[0m \u001B[38;5;124;03m        Returns the instance itself.\u001B[39;00m\n\u001B[0;32m    731\u001B[0m \u001B[38;5;124;03m    \"\"\"\u001B[39;00m\n\u001B[1;32m--> 732\u001B[0m     X, y \u001B[38;5;241m=\u001B[39m \u001B[38;5;28;43mself\u001B[39;49m\u001B[38;5;241;43m.\u001B[39;49m\u001B[43m_check_X_y\u001B[49m\u001B[43m(\u001B[49m\u001B[43mX\u001B[49m\u001B[43m,\u001B[49m\u001B[43m \u001B[49m\u001B[43my\u001B[49m\u001B[43m)\u001B[49m\n\u001B[0;32m    733\u001B[0m     _, n_features \u001B[38;5;241m=\u001B[39m X\u001B[38;5;241m.\u001B[39mshape\n\u001B[0;32m    735\u001B[0m     labelbin \u001B[38;5;241m=\u001B[39m LabelBinarizer()\n",
      "File \u001B[1;32m~\\OneDrive\\Desktop\\code\\.venv\\Lib\\site-packages\\sklearn\\naive_bayes.py:578\u001B[0m, in \u001B[0;36m_BaseDiscreteNB._check_X_y\u001B[1;34m(self, X, y, reset)\u001B[0m\n\u001B[0;32m    576\u001B[0m \u001B[38;5;28;01mdef\u001B[39;00m \u001B[38;5;21m_check_X_y\u001B[39m(\u001B[38;5;28mself\u001B[39m, X, y, reset\u001B[38;5;241m=\u001B[39m\u001B[38;5;28;01mTrue\u001B[39;00m):\n\u001B[0;32m    577\u001B[0m \u001B[38;5;250m    \u001B[39m\u001B[38;5;124;03m\"\"\"Validate X and y in fit methods.\"\"\"\u001B[39;00m\n\u001B[1;32m--> 578\u001B[0m     \u001B[38;5;28;01mreturn\u001B[39;00m \u001B[38;5;28;43mself\u001B[39;49m\u001B[38;5;241;43m.\u001B[39;49m\u001B[43m_validate_data\u001B[49m\u001B[43m(\u001B[49m\u001B[43mX\u001B[49m\u001B[43m,\u001B[49m\u001B[43m \u001B[49m\u001B[43my\u001B[49m\u001B[43m,\u001B[49m\u001B[43m \u001B[49m\u001B[43maccept_sparse\u001B[49m\u001B[38;5;241;43m=\u001B[39;49m\u001B[38;5;124;43m\"\u001B[39;49m\u001B[38;5;124;43mcsr\u001B[39;49m\u001B[38;5;124;43m\"\u001B[39;49m\u001B[43m,\u001B[49m\u001B[43m \u001B[49m\u001B[43mreset\u001B[49m\u001B[38;5;241;43m=\u001B[39;49m\u001B[43mreset\u001B[49m\u001B[43m)\u001B[49m\n",
      "File \u001B[1;32m~\\OneDrive\\Desktop\\code\\.venv\\Lib\\site-packages\\sklearn\\base.py:650\u001B[0m, in \u001B[0;36mBaseEstimator._validate_data\u001B[1;34m(self, X, y, reset, validate_separately, cast_to_ndarray, **check_params)\u001B[0m\n\u001B[0;32m    648\u001B[0m         y \u001B[38;5;241m=\u001B[39m check_array(y, input_name\u001B[38;5;241m=\u001B[39m\u001B[38;5;124m\"\u001B[39m\u001B[38;5;124my\u001B[39m\u001B[38;5;124m\"\u001B[39m, \u001B[38;5;241m*\u001B[39m\u001B[38;5;241m*\u001B[39mcheck_y_params)\n\u001B[0;32m    649\u001B[0m     \u001B[38;5;28;01melse\u001B[39;00m:\n\u001B[1;32m--> 650\u001B[0m         X, y \u001B[38;5;241m=\u001B[39m \u001B[43mcheck_X_y\u001B[49m\u001B[43m(\u001B[49m\u001B[43mX\u001B[49m\u001B[43m,\u001B[49m\u001B[43m \u001B[49m\u001B[43my\u001B[49m\u001B[43m,\u001B[49m\u001B[43m \u001B[49m\u001B[38;5;241;43m*\u001B[39;49m\u001B[38;5;241;43m*\u001B[39;49m\u001B[43mcheck_params\u001B[49m\u001B[43m)\u001B[49m\n\u001B[0;32m    651\u001B[0m     out \u001B[38;5;241m=\u001B[39m X, y\n\u001B[0;32m    653\u001B[0m \u001B[38;5;28;01mif\u001B[39;00m \u001B[38;5;129;01mnot\u001B[39;00m no_val_X \u001B[38;5;129;01mand\u001B[39;00m check_params\u001B[38;5;241m.\u001B[39mget(\u001B[38;5;124m\"\u001B[39m\u001B[38;5;124mensure_2d\u001B[39m\u001B[38;5;124m\"\u001B[39m, \u001B[38;5;28;01mTrue\u001B[39;00m):\n",
      "File \u001B[1;32m~\\OneDrive\\Desktop\\code\\.venv\\Lib\\site-packages\\sklearn\\utils\\validation.py:1273\u001B[0m, in \u001B[0;36mcheck_X_y\u001B[1;34m(X, y, accept_sparse, accept_large_sparse, dtype, order, copy, force_all_finite, ensure_2d, allow_nd, multi_output, ensure_min_samples, ensure_min_features, y_numeric, estimator)\u001B[0m\n\u001B[0;32m   1268\u001B[0m         estimator_name \u001B[38;5;241m=\u001B[39m _check_estimator_name(estimator)\n\u001B[0;32m   1269\u001B[0m     \u001B[38;5;28;01mraise\u001B[39;00m \u001B[38;5;167;01mValueError\u001B[39;00m(\n\u001B[0;32m   1270\u001B[0m         \u001B[38;5;124mf\u001B[39m\u001B[38;5;124m\"\u001B[39m\u001B[38;5;132;01m{\u001B[39;00mestimator_name\u001B[38;5;132;01m}\u001B[39;00m\u001B[38;5;124m requires y to be passed, but the target y is None\u001B[39m\u001B[38;5;124m\"\u001B[39m\n\u001B[0;32m   1271\u001B[0m     )\n\u001B[1;32m-> 1273\u001B[0m X \u001B[38;5;241m=\u001B[39m \u001B[43mcheck_array\u001B[49m\u001B[43m(\u001B[49m\n\u001B[0;32m   1274\u001B[0m \u001B[43m    \u001B[49m\u001B[43mX\u001B[49m\u001B[43m,\u001B[49m\n\u001B[0;32m   1275\u001B[0m \u001B[43m    \u001B[49m\u001B[43maccept_sparse\u001B[49m\u001B[38;5;241;43m=\u001B[39;49m\u001B[43maccept_sparse\u001B[49m\u001B[43m,\u001B[49m\n\u001B[0;32m   1276\u001B[0m \u001B[43m    \u001B[49m\u001B[43maccept_large_sparse\u001B[49m\u001B[38;5;241;43m=\u001B[39;49m\u001B[43maccept_large_sparse\u001B[49m\u001B[43m,\u001B[49m\n\u001B[0;32m   1277\u001B[0m \u001B[43m    \u001B[49m\u001B[43mdtype\u001B[49m\u001B[38;5;241;43m=\u001B[39;49m\u001B[43mdtype\u001B[49m\u001B[43m,\u001B[49m\n\u001B[0;32m   1278\u001B[0m \u001B[43m    \u001B[49m\u001B[43morder\u001B[49m\u001B[38;5;241;43m=\u001B[39;49m\u001B[43morder\u001B[49m\u001B[43m,\u001B[49m\n\u001B[0;32m   1279\u001B[0m \u001B[43m    \u001B[49m\u001B[43mcopy\u001B[49m\u001B[38;5;241;43m=\u001B[39;49m\u001B[43mcopy\u001B[49m\u001B[43m,\u001B[49m\n\u001B[0;32m   1280\u001B[0m \u001B[43m    \u001B[49m\u001B[43mforce_all_finite\u001B[49m\u001B[38;5;241;43m=\u001B[39;49m\u001B[43mforce_all_finite\u001B[49m\u001B[43m,\u001B[49m\n\u001B[0;32m   1281\u001B[0m \u001B[43m    \u001B[49m\u001B[43mensure_2d\u001B[49m\u001B[38;5;241;43m=\u001B[39;49m\u001B[43mensure_2d\u001B[49m\u001B[43m,\u001B[49m\n\u001B[0;32m   1282\u001B[0m \u001B[43m    \u001B[49m\u001B[43mallow_nd\u001B[49m\u001B[38;5;241;43m=\u001B[39;49m\u001B[43mallow_nd\u001B[49m\u001B[43m,\u001B[49m\n\u001B[0;32m   1283\u001B[0m \u001B[43m    \u001B[49m\u001B[43mensure_min_samples\u001B[49m\u001B[38;5;241;43m=\u001B[39;49m\u001B[43mensure_min_samples\u001B[49m\u001B[43m,\u001B[49m\n\u001B[0;32m   1284\u001B[0m \u001B[43m    \u001B[49m\u001B[43mensure_min_features\u001B[49m\u001B[38;5;241;43m=\u001B[39;49m\u001B[43mensure_min_features\u001B[49m\u001B[43m,\u001B[49m\n\u001B[0;32m   1285\u001B[0m \u001B[43m    \u001B[49m\u001B[43mestimator\u001B[49m\u001B[38;5;241;43m=\u001B[39;49m\u001B[43mestimator\u001B[49m\u001B[43m,\u001B[49m\n\u001B[0;32m   1286\u001B[0m \u001B[43m    \u001B[49m\u001B[43minput_name\u001B[49m\u001B[38;5;241;43m=\u001B[39;49m\u001B[38;5;124;43m\"\u001B[39;49m\u001B[38;5;124;43mX\u001B[39;49m\u001B[38;5;124;43m\"\u001B[39;49m\u001B[43m,\u001B[49m\n\u001B[0;32m   1287\u001B[0m \u001B[43m\u001B[49m\u001B[43m)\u001B[49m\n\u001B[0;32m   1289\u001B[0m y \u001B[38;5;241m=\u001B[39m _check_y(y, multi_output\u001B[38;5;241m=\u001B[39mmulti_output, y_numeric\u001B[38;5;241m=\u001B[39my_numeric, estimator\u001B[38;5;241m=\u001B[39mestimator)\n\u001B[0;32m   1291\u001B[0m check_consistent_length(X, y)\n",
      "File \u001B[1;32m~\\OneDrive\\Desktop\\code\\.venv\\Lib\\site-packages\\sklearn\\utils\\validation.py:1007\u001B[0m, in \u001B[0;36mcheck_array\u001B[1;34m(array, accept_sparse, accept_large_sparse, dtype, order, copy, force_all_finite, ensure_2d, allow_nd, ensure_min_samples, ensure_min_features, estimator, input_name)\u001B[0m\n\u001B[0;32m   1005\u001B[0m         array \u001B[38;5;241m=\u001B[39m xp\u001B[38;5;241m.\u001B[39mastype(array, dtype, copy\u001B[38;5;241m=\u001B[39m\u001B[38;5;28;01mFalse\u001B[39;00m)\n\u001B[0;32m   1006\u001B[0m     \u001B[38;5;28;01melse\u001B[39;00m:\n\u001B[1;32m-> 1007\u001B[0m         array \u001B[38;5;241m=\u001B[39m \u001B[43m_asarray_with_order\u001B[49m\u001B[43m(\u001B[49m\u001B[43marray\u001B[49m\u001B[43m,\u001B[49m\u001B[43m \u001B[49m\u001B[43morder\u001B[49m\u001B[38;5;241;43m=\u001B[39;49m\u001B[43morder\u001B[49m\u001B[43m,\u001B[49m\u001B[43m \u001B[49m\u001B[43mdtype\u001B[49m\u001B[38;5;241;43m=\u001B[39;49m\u001B[43mdtype\u001B[49m\u001B[43m,\u001B[49m\u001B[43m \u001B[49m\u001B[43mxp\u001B[49m\u001B[38;5;241;43m=\u001B[39;49m\u001B[43mxp\u001B[49m\u001B[43m)\u001B[49m\n\u001B[0;32m   1008\u001B[0m \u001B[38;5;28;01mexcept\u001B[39;00m ComplexWarning \u001B[38;5;28;01mas\u001B[39;00m complex_warning:\n\u001B[0;32m   1009\u001B[0m     \u001B[38;5;28;01mraise\u001B[39;00m \u001B[38;5;167;01mValueError\u001B[39;00m(\n\u001B[0;32m   1010\u001B[0m         \u001B[38;5;124m\"\u001B[39m\u001B[38;5;124mComplex data not supported\u001B[39m\u001B[38;5;130;01m\\n\u001B[39;00m\u001B[38;5;132;01m{}\u001B[39;00m\u001B[38;5;130;01m\\n\u001B[39;00m\u001B[38;5;124m\"\u001B[39m\u001B[38;5;241m.\u001B[39mformat(array)\n\u001B[0;32m   1011\u001B[0m     ) \u001B[38;5;28;01mfrom\u001B[39;00m \u001B[38;5;21;01mcomplex_warning\u001B[39;00m\n",
      "File \u001B[1;32m~\\OneDrive\\Desktop\\code\\.venv\\Lib\\site-packages\\sklearn\\utils\\_array_api.py:746\u001B[0m, in \u001B[0;36m_asarray_with_order\u001B[1;34m(array, dtype, order, copy, xp, device)\u001B[0m\n\u001B[0;32m    744\u001B[0m     array \u001B[38;5;241m=\u001B[39m numpy\u001B[38;5;241m.\u001B[39marray(array, order\u001B[38;5;241m=\u001B[39morder, dtype\u001B[38;5;241m=\u001B[39mdtype)\n\u001B[0;32m    745\u001B[0m \u001B[38;5;28;01melse\u001B[39;00m:\n\u001B[1;32m--> 746\u001B[0m     array \u001B[38;5;241m=\u001B[39m numpy\u001B[38;5;241m.\u001B[39masarray(array, order\u001B[38;5;241m=\u001B[39morder, dtype\u001B[38;5;241m=\u001B[39mdtype)\n\u001B[0;32m    748\u001B[0m \u001B[38;5;66;03m# At this point array is a NumPy ndarray. We convert it to an array\u001B[39;00m\n\u001B[0;32m    749\u001B[0m \u001B[38;5;66;03m# container that is consistent with the input's namespace.\u001B[39;00m\n\u001B[0;32m    750\u001B[0m \u001B[38;5;28;01mreturn\u001B[39;00m xp\u001B[38;5;241m.\u001B[39masarray(array)\n",
      "\u001B[1;31mValueError\u001B[0m: could not convert string to float: 'brandempir time cud meet b ur welcom 2 come c last fri finish till 5 30 get time'"
     ]
    }
   ],
   "execution_count": 65
  },
  {
   "cell_type": "code",
   "outputs": [],
   "source": [
    "# model3 = SVC()\n",
    "# model3.fit(X_train, Y_train)"
   ],
   "metadata": {
    "collapsed": false
   }
  },
  {
   "metadata": {},
   "cell_type": "markdown",
   "source": [
    "3. Support Vector Machine (SVM)"
   ]
  },
  {
   "cell_type": "code",
   "outputs": [],
   "source": [
    "model3 = SentimentIntensityAnalyzer()\n",
    "pred=model3.polarity_scores(X_train)"
   ],
   "metadata": {
    "collapsed": false
   }
  },
  {
   "metadata": {},
   "cell_type": "markdown",
   "source": [
    "4. Random Forest Classifier"
   ]
  },
  {
   "metadata": {
    "ExecuteTime": {
     "start_time": "2024-05-29T16:05:48.751321900Z"
    }
   },
   "cell_type": "code",
   "source": [
    "# model4 = RandomForestClassifier(n_estimators=100, max_depth=10, min_samples_split=2, min_samples_leaf=1, max_features='auto')\n",
    "# model4.fit(X_train, Y_train)"
   ],
   "outputs": [],
   "execution_count": null
  },
  {
   "cell_type": "code",
   "outputs": [],
   "source": [],
   "metadata": {
    "collapsed": false
   }
  },
  {
   "cell_type": "markdown",
   "metadata": {
    "id": "H11BFHlXhHH5"
   },
   "source": [
    "Model Evaluation"
   ]
  },
  {
   "cell_type": "code",
   "metadata": {
    "id": "yr8BwHmWhJTq",
    "ExecuteTime": {
     "end_time": "2024-06-04T00:15:13.847516600Z",
     "start_time": "2024-06-04T00:15:13.682757200Z"
    }
   },
   "source": [
    "# accuracy score on the training data\n",
    "X_train_pred = model1.predict(X_train)\n",
    "training_data_accuracy = accuracy_score(Y_train, X_train_pred)"
   ],
   "outputs": [],
   "execution_count": 99
  },
  {
   "cell_type": "markdown",
   "source": [],
   "metadata": {
    "collapsed": false
   }
  },
  {
   "cell_type": "code",
   "metadata": {
    "colab": {
     "base_uri": "https://localhost:8080/"
    },
    "id": "QLiLa3Ysibua",
    "outputId": "3e32c4bc-4bb1-41a4-b7c2-055df09d68d8",
    "ExecuteTime": {
     "end_time": "2024-06-04T00:15:16.208002300Z",
     "start_time": "2024-06-04T00:15:16.195997900Z"
    }
   },
   "source": [
    "print('Accuracy score on the training data: ', training_data_accuracy)"
   ],
   "outputs": [
    {
     "name": "stdout",
     "output_type": "stream",
     "text": [
      "Accuracy score on the training data:  0.8013388888888889\n"
     ]
    }
   ],
   "execution_count": 100
  },
  {
   "cell_type": "code",
   "metadata": {
    "id": "ffSaAGRyi50G",
    "ExecuteTime": {
     "end_time": "2024-06-04T00:15:21.909709200Z",
     "start_time": "2024-06-04T00:15:21.887440500Z"
    }
   },
   "source": [
    "# accuracy score on the test data\n",
    "X_test_pred = model1.predict(X_test)\n",
    "test_data_accuracy = accuracy_score(Y_test, X_test_pred)"
   ],
   "outputs": [],
   "execution_count": 101
  },
  {
   "cell_type": "code",
   "metadata": {
    "colab": {
     "base_uri": "https://localhost:8080/"
    },
    "id": "GySvGec2jEQY",
    "outputId": "8fada706-e191-4901-bc1e-374b9448cd5f",
    "ExecuteTime": {
     "end_time": "2024-06-04T00:15:24.163326Z",
     "start_time": "2024-06-04T00:15:24.150321900Z"
    }
   },
   "source": [
    "print('Accuracy score on the test data: ', test_data_accuracy)"
   ],
   "outputs": [
    {
     "name": "stdout",
     "output_type": "stream",
     "text": [
      "Accuracy score on the test data:  0.77675\n"
     ]
    }
   ],
   "execution_count": 102
  },
  {
   "cell_type": "markdown",
   "metadata": {
    "id": "CwVwhWlOyYDc"
   },
   "source": [
    "Model Accuracy (LR)= 77.66%, (NB)= 75.09%, (SVM)= 76.96%"
   ]
  },
  {
   "cell_type": "markdown",
   "metadata": {
    "id": "Q-H-yVQiyq8O"
   },
   "source": [
    "Saving the trained model"
   ]
  },
  {
   "cell_type": "code",
   "metadata": {
    "id": "T0OW-jTlyi76",
    "ExecuteTime": {
     "start_time": "2024-05-29T16:05:48.758324200Z"
    }
   },
   "source": [
    "import pickle"
   ],
   "outputs": [],
   "execution_count": null
  },
  {
   "cell_type": "code",
   "metadata": {
    "id": "vXicb81ayvIp",
    "ExecuteTime": {
     "start_time": "2024-05-29T16:05:48.760324100Z"
    }
   },
   "source": [
    "saved_model = 'saved_model3.sav'\n",
    "pickle.dump(model3, open(saved_model,'wb'))"
   ],
   "outputs": [],
   "execution_count": null
  },
  {
   "cell_type": "markdown",
   "metadata": {
    "id": "uQugjeCrz2Xr"
   },
   "source": [
    "Using the saved model for future predictions"
   ]
  },
  {
   "cell_type": "code",
   "metadata": {
    "id": "0Djntn_6z6c5",
    "ExecuteTime": {
     "start_time": "2024-05-29T16:05:48.761323600Z"
    }
   },
   "source": [
    "# loading the saved model\n",
    "loaded_model = pickle.load(open('saved_model3.sav', 'rb'))"
   ],
   "outputs": [],
   "execution_count": null
  },
  {
   "cell_type": "code",
   "source": [
    "X_new = X_test[200]\n",
    "print(Y_test[200])\n",
    "\n",
    "prediction = loaded_model.predict(X_new)\n",
    "print(prediction)\n",
    "\n",
    "if (prediction[0]==0):\n",
    "  print(\"Negative tweet\")\n",
    "\n",
    "else:\n",
    "  print(\"Positive tweet\")"
   ],
   "metadata": {
    "colab": {
     "base_uri": "https://localhost:8080/"
    },
    "id": "7NgKHkk8bxr0",
    "outputId": "6dd38764-3856-490c-a1b5-5d4261b7486c",
    "ExecuteTime": {
     "start_time": "2024-05-29T16:05:48.762325100Z"
    }
   },
   "outputs": [],
   "execution_count": null
  }
 ],
 "metadata": {
  "colab": {
   "provenance": []
  },
  "kernelspec": {
   "display_name": "Python 3 (ipykernel)",
   "name": "python3",
   "language": "python"
  },
  "language_info": {
   "name": "python"
  }
 },
 "nbformat": 4,
 "nbformat_minor": 0
}
